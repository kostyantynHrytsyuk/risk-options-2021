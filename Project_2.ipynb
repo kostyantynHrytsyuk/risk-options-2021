{
 "cells": [
  {
   "cell_type": "code",
   "execution_count": 1,
   "metadata": {},
   "outputs": [],
   "source": [
    "import pandas as pd\n",
    "import numpy as np\n",
    "\n",
    "from datetime import datetime\n",
    "from dateutil.relativedelta import relativedelta\n",
    "from scipy.stats import loguniform\n",
    "from sklearn.model_selection import PredefinedSplit, GridSearchCV\n",
    "from sklearn.linear_model import LinearRegression, Ridge, Lasso, ElasticNet \n",
    "from sklearn.metrics import mean_squared_error, r2_score"
   ]
  },
  {
   "cell_type": "code",
   "execution_count": 2,
   "metadata": {},
   "outputs": [],
   "source": [
    "df = pd.read_csv('data.csv', parse_dates=[1]).sort_values(by = \"date\")\n",
    "df['date'] = df['date'].dt.to_period('M')\n",
    "df = df[277:].reset_index(drop=True)"
   ]
  },
  {
   "cell_type": "code",
   "execution_count": 3,
   "metadata": {},
   "outputs": [
    {
     "data": {
      "text/html": [
       "<div>\n",
       "<style scoped>\n",
       "    .dataframe tbody tr th:only-of-type {\n",
       "        vertical-align: middle;\n",
       "    }\n",
       "\n",
       "    .dataframe tbody tr th {\n",
       "        vertical-align: top;\n",
       "    }\n",
       "\n",
       "    .dataframe thead th {\n",
       "        text-align: right;\n",
       "    }\n",
       "</style>\n",
       "<table border=\"1\" class=\"dataframe\">\n",
       "  <thead>\n",
       "    <tr style=\"text-align: right;\">\n",
       "      <th></th>\n",
       "      <th>optid</th>\n",
       "      <th>date</th>\n",
       "      <th>secid</th>\n",
       "      <th>cp_flag</th>\n",
       "      <th>strike</th>\n",
       "      <th>bid</th>\n",
       "      <th>ask</th>\n",
       "      <th>volume</th>\n",
       "      <th>openint</th>\n",
       "      <th>impvol</th>\n",
       "      <th>...</th>\n",
       "      <th>vix</th>\n",
       "      <th>dhedged_return_mid</th>\n",
       "      <th>dhedged_return_spot</th>\n",
       "      <th>dhedged_return_spot_gamma</th>\n",
       "      <th>dhedged_return_mid_delev</th>\n",
       "      <th>dhedged_return_spot_delev</th>\n",
       "      <th>dhedged_return_spot_gamma_delev</th>\n",
       "      <th>IV_mness_deriv_1</th>\n",
       "      <th>IV_ttm_deriv_1</th>\n",
       "      <th>short_rate</th>\n",
       "    </tr>\n",
       "  </thead>\n",
       "  <tbody>\n",
       "    <tr>\n",
       "      <th>0</th>\n",
       "      <td>10758593</td>\n",
       "      <td>1996-03</td>\n",
       "      <td>108105</td>\n",
       "      <td>C</td>\n",
       "      <td>630.0</td>\n",
       "      <td>20.000</td>\n",
       "      <td>20.500</td>\n",
       "      <td>7.0</td>\n",
       "      <td>2885.0</td>\n",
       "      <td>0.163628</td>\n",
       "      <td>...</td>\n",
       "      <td>16.54</td>\n",
       "      <td>-0.162051</td>\n",
       "      <td>-0.005116</td>\n",
       "      <td>-0.453583</td>\n",
       "      <td>-0.007654</td>\n",
       "      <td>-0.000242</td>\n",
       "      <td>-0.021423</td>\n",
       "      <td>-0.034178</td>\n",
       "      <td>0.000045</td>\n",
       "      <td>0.054624</td>\n",
       "    </tr>\n",
       "    <tr>\n",
       "      <th>1</th>\n",
       "      <td>10093854</td>\n",
       "      <td>1996-03</td>\n",
       "      <td>108105</td>\n",
       "      <td>P</td>\n",
       "      <td>650.0</td>\n",
       "      <td>17.500</td>\n",
       "      <td>18.250</td>\n",
       "      <td>126.0</td>\n",
       "      <td>2383.0</td>\n",
       "      <td>0.143119</td>\n",
       "      <td>...</td>\n",
       "      <td>16.54</td>\n",
       "      <td>-0.161114</td>\n",
       "      <td>-0.004490</td>\n",
       "      <td>-0.430225</td>\n",
       "      <td>-0.008292</td>\n",
       "      <td>-0.000231</td>\n",
       "      <td>-0.022141</td>\n",
       "      <td>-0.025132</td>\n",
       "      <td>0.000005</td>\n",
       "      <td>0.054624</td>\n",
       "    </tr>\n",
       "    <tr>\n",
       "      <th>2</th>\n",
       "      <td>10453184</td>\n",
       "      <td>1996-03</td>\n",
       "      <td>108105</td>\n",
       "      <td>P</td>\n",
       "      <td>675.0</td>\n",
       "      <td>33.625</td>\n",
       "      <td>34.625</td>\n",
       "      <td>0.0</td>\n",
       "      <td>202.0</td>\n",
       "      <td>0.133780</td>\n",
       "      <td>...</td>\n",
       "      <td>16.54</td>\n",
       "      <td>-0.032381</td>\n",
       "      <td>-0.001723</td>\n",
       "      <td>-0.212260</td>\n",
       "      <td>-0.002190</td>\n",
       "      <td>-0.000117</td>\n",
       "      <td>-0.014357</td>\n",
       "      <td>-0.008622</td>\n",
       "      <td>-0.000010</td>\n",
       "      <td>0.054624</td>\n",
       "    </tr>\n",
       "    <tr>\n",
       "      <th>3</th>\n",
       "      <td>11075738</td>\n",
       "      <td>1996-03</td>\n",
       "      <td>108105</td>\n",
       "      <td>P</td>\n",
       "      <td>650.0</td>\n",
       "      <td>35.000</td>\n",
       "      <td>36.500</td>\n",
       "      <td>13.0</td>\n",
       "      <td>2376.0</td>\n",
       "      <td>0.153038</td>\n",
       "      <td>...</td>\n",
       "      <td>16.54</td>\n",
       "      <td>-0.034062</td>\n",
       "      <td>-0.001898</td>\n",
       "      <td>-0.684611</td>\n",
       "      <td>-0.005364</td>\n",
       "      <td>-0.000299</td>\n",
       "      <td>-0.107810</td>\n",
       "      <td>-0.029598</td>\n",
       "      <td>0.000015</td>\n",
       "      <td>0.054624</td>\n",
       "    </tr>\n",
       "    <tr>\n",
       "      <th>4</th>\n",
       "      <td>11727207</td>\n",
       "      <td>1996-03</td>\n",
       "      <td>108105</td>\n",
       "      <td>C</td>\n",
       "      <td>655.0</td>\n",
       "      <td>30.250</td>\n",
       "      <td>31.250</td>\n",
       "      <td>7120.0</td>\n",
       "      <td>8000.0</td>\n",
       "      <td>0.146335</td>\n",
       "      <td>...</td>\n",
       "      <td>16.54</td>\n",
       "      <td>-0.019832</td>\n",
       "      <td>-0.000951</td>\n",
       "      <td>-0.160711</td>\n",
       "      <td>-0.001621</td>\n",
       "      <td>-0.000078</td>\n",
       "      <td>-0.013133</td>\n",
       "      <td>NaN</td>\n",
       "      <td>NaN</td>\n",
       "      <td>0.054624</td>\n",
       "    </tr>\n",
       "  </tbody>\n",
       "</table>\n",
       "<p>5 rows × 37 columns</p>\n",
       "</div>"
      ],
      "text/plain": [
       "      optid     date   secid cp_flag  strike     bid     ask  volume  openint  \\\n",
       "0  10758593  1996-03  108105       C   630.0  20.000  20.500     7.0   2885.0   \n",
       "1  10093854  1996-03  108105       P   650.0  17.500  18.250   126.0   2383.0   \n",
       "2  10453184  1996-03  108105       P   675.0  33.625  34.625     0.0    202.0   \n",
       "3  11075738  1996-03  108105       P   650.0  35.000  36.500    13.0   2376.0   \n",
       "4  11727207  1996-03  108105       C   655.0  30.250  31.250  7120.0   8000.0   \n",
       "\n",
       "     impvol  ...    vix  dhedged_return_mid  dhedged_return_spot  \\\n",
       "0  0.163628  ...  16.54           -0.162051            -0.005116   \n",
       "1  0.143119  ...  16.54           -0.161114            -0.004490   \n",
       "2  0.133780  ...  16.54           -0.032381            -0.001723   \n",
       "3  0.153038  ...  16.54           -0.034062            -0.001898   \n",
       "4  0.146335  ...  16.54           -0.019832            -0.000951   \n",
       "\n",
       "   dhedged_return_spot_gamma  dhedged_return_mid_delev  \\\n",
       "0                  -0.453583                 -0.007654   \n",
       "1                  -0.430225                 -0.008292   \n",
       "2                  -0.212260                 -0.002190   \n",
       "3                  -0.684611                 -0.005364   \n",
       "4                  -0.160711                 -0.001621   \n",
       "\n",
       "  dhedged_return_spot_delev  dhedged_return_spot_gamma_delev  \\\n",
       "0                 -0.000242                        -0.021423   \n",
       "1                 -0.000231                        -0.022141   \n",
       "2                 -0.000117                        -0.014357   \n",
       "3                 -0.000299                        -0.107810   \n",
       "4                 -0.000078                        -0.013133   \n",
       "\n",
       "   IV_mness_deriv_1  IV_ttm_deriv_1  short_rate  \n",
       "0         -0.034178        0.000045    0.054624  \n",
       "1         -0.025132        0.000005    0.054624  \n",
       "2         -0.008622       -0.000010    0.054624  \n",
       "3         -0.029598        0.000015    0.054624  \n",
       "4               NaN             NaN    0.054624  \n",
       "\n",
       "[5 rows x 37 columns]"
      ]
     },
     "execution_count": 3,
     "metadata": {},
     "output_type": "execute_result"
    }
   ],
   "source": [
    "df.head()"
   ]
  },
  {
   "cell_type": "code",
   "execution_count": 4,
   "metadata": {},
   "outputs": [
    {
     "name": "stdout",
     "output_type": "stream",
     "text": [
      "<class 'pandas.core.frame.DataFrame'>\n",
      "RangeIndex: 180537 entries, 0 to 180536\n",
      "Data columns (total 37 columns):\n",
      " #   Column                           Non-Null Count   Dtype    \n",
      "---  ------                           --------------   -----    \n",
      " 0   optid                            180537 non-null  int64    \n",
      " 1   date                             180537 non-null  period[M]\n",
      " 2   secid                            180537 non-null  int64    \n",
      " 3   cp_flag                          180537 non-null  object   \n",
      " 4   strike                           180537 non-null  float64  \n",
      " 5   bid                              180537 non-null  float64  \n",
      " 6   ask                              180537 non-null  float64  \n",
      " 7   volume                           180537 non-null  float64  \n",
      " 8   openint                          180537 non-null  float64  \n",
      " 9   impvol                           180537 non-null  float64  \n",
      " 10  delta                            180537 non-null  float64  \n",
      " 11  gamma                            180537 non-null  float64  \n",
      " 12  vega                             180537 non-null  float64  \n",
      " 13  theta                            180537 non-null  float64  \n",
      " 14  midprice                         180537 non-null  float64  \n",
      " 15  last_trade_date                  180537 non-null  object   \n",
      " 16  ttm                              180537 non-null  int64    \n",
      " 17  mness                            180537 non-null  float64  \n",
      " 18  embed_lev                        180537 non-null  float64  \n",
      " 19  return_mid                       180537 non-null  float64  \n",
      " 20  return_spot                      180537 non-null  float64  \n",
      " 21  ex_return_mid                    180537 non-null  float64  \n",
      " 22  ex_return_spot                   180537 non-null  float64  \n",
      " 23  dhedged_gain                     180537 non-null  float64  \n",
      " 24  spot_close                       180537 non-null  float64  \n",
      " 25  divrate                          180537 non-null  float64  \n",
      " 26  rate_ttm                         180537 non-null  float64  \n",
      " 27  vix                              180537 non-null  float64  \n",
      " 28  dhedged_return_mid               180537 non-null  float64  \n",
      " 29  dhedged_return_spot              180537 non-null  float64  \n",
      " 30  dhedged_return_spot_gamma        180529 non-null  float64  \n",
      " 31  dhedged_return_mid_delev         180537 non-null  float64  \n",
      " 32  dhedged_return_spot_delev        180537 non-null  float64  \n",
      " 33  dhedged_return_spot_gamma_delev  180529 non-null  float64  \n",
      " 34  IV_mness_deriv_1                 174630 non-null  float64  \n",
      " 35  IV_ttm_deriv_1                   174630 non-null  float64  \n",
      " 36  short_rate                       180537 non-null  float64  \n",
      "dtypes: float64(31), int64(3), object(2), period[M](1)\n",
      "memory usage: 49.6+ MB\n"
     ]
    }
   ],
   "source": [
    "df.info()"
   ]
  },
  {
   "cell_type": "code",
   "execution_count": 5,
   "metadata": {},
   "outputs": [],
   "source": [
    "def get_summary(df_col):\n",
    "    print(f'\\nSummary of {df_col.name}:')\n",
    "    print(f'Mean: {np.round( df_col.mean(),2)}')\n",
    "    print(f'Median: {np.round( df_col.median(),2)}')\n",
    "    print(f'Standard deviation: {np.round( df_col.std(),2)}')\n",
    "    print(f'Number of observations: {np.round( df_col.count(),2)}')    "
   ]
  },
  {
   "cell_type": "code",
   "execution_count": 6,
   "metadata": {},
   "outputs": [],
   "source": [
    "def add_months(date ,period_to_add=1):\n",
    "    return (datetime.strptime(date, '%Y-%m') + relativedelta(months=period_to_add)).strftime('%Y-%m')"
   ]
  },
  {
   "cell_type": "code",
   "execution_count": 7,
   "metadata": {},
   "outputs": [],
   "source": [
    "features = [ 'midprice', 'mness', 'ttm', 'embed_lev', 'impvol', 'gamma', 'vega', 'theta']"
   ]
  },
  {
   "cell_type": "code",
   "execution_count": 8,
   "metadata": {},
   "outputs": [
    {
     "name": "stdout",
     "output_type": "stream",
     "text": [
      "\n",
      "Summary statistics for Call options\n",
      "\n",
      "\n",
      "Summary of midprice:\n",
      "Mean: 91.46\n",
      "Median: 37.39\n",
      "Standard deviation: 163.66\n",
      "Number of observations: 69044\n",
      "\n",
      "Summary of mness:\n",
      "Mean: 0.49\n",
      "Median: 0.31\n",
      "Standard deviation: 1.3\n",
      "Number of observations: 69044\n",
      "\n",
      "Summary of ttm:\n",
      "Mean: 208.87\n",
      "Median: 91.0\n",
      "Standard deviation: 224.3\n",
      "Number of observations: 69044\n",
      "\n",
      "Summary of embed_lev:\n",
      "Mean: 22.17\n",
      "Median: 14.24\n",
      "Standard deviation: 21.85\n",
      "Number of observations: 69044\n",
      "\n",
      "Summary of impvol:\n",
      "Mean: 0.21\n",
      "Median: 0.18\n",
      "Standard deviation: 0.15\n",
      "Number of observations: 69044\n",
      "\n",
      "Summary of gamma:\n",
      "Mean: 0.0\n",
      "Median: 0.0\n",
      "Standard deviation: 0.0\n",
      "Number of observations: 69044\n",
      "\n",
      "Summary of vega:\n",
      "Mean: 240.76\n",
      "Median: 176.03\n",
      "Standard deviation: 230.11\n",
      "Number of observations: 69044\n",
      "\n",
      "Summary of theta:\n",
      "Mean: -56.13\n",
      "Median: -43.84\n",
      "Standard deviation: 51.24\n",
      "Number of observations: 69044\n"
     ]
    }
   ],
   "source": [
    "print('\\nSummary statistics for Call options\\n')\n",
    "df[df[\"cp_flag\"] == 'C'][features].apply(lambda x: get_summary(x), axis=0);"
   ]
  },
  {
   "cell_type": "code",
   "execution_count": 9,
   "metadata": {},
   "outputs": [
    {
     "name": "stdout",
     "output_type": "stream",
     "text": [
      "\n",
      "Summary statistics for Put options\n",
      "\n",
      "\n",
      "Summary of midprice:\n",
      "Mean: 71.67\n",
      "Median: 14.25\n",
      "Standard deviation: 154.16\n",
      "Number of observations: 111493\n",
      "\n",
      "Summary of mness:\n",
      "Mean: -0.9\n",
      "Median: -1.03\n",
      "Standard deviation: 1.43\n",
      "Number of observations: 111493\n",
      "\n",
      "Summary of ttm:\n",
      "Mean: 202.65\n",
      "Median: 91.0\n",
      "Standard deviation: 222.21\n",
      "Number of observations: 111493\n",
      "\n",
      "Summary of embed_lev:\n",
      "Mean: 14.65\n",
      "Median: 11.78\n",
      "Standard deviation: 10.6\n",
      "Number of observations: 111493\n",
      "\n",
      "Summary of impvol:\n",
      "Mean: 0.3\n",
      "Median: 0.26\n",
      "Standard deviation: 0.18\n",
      "Number of observations: 111493\n",
      "\n",
      "Summary of gamma:\n",
      "Mean: 0.0\n",
      "Median: 0.0\n",
      "Standard deviation: 0.0\n",
      "Number of observations: 111493\n",
      "\n",
      "Summary of vega:\n",
      "Mean: 178.92\n",
      "Median: 105.07\n",
      "Standard deviation: 205.27\n",
      "Number of observations: 111493\n",
      "\n",
      "Summary of theta:\n",
      "Mean: -49.22\n",
      "Median: -36.21\n",
      "Standard deviation: 49.53\n",
      "Number of observations: 111493\n"
     ]
    }
   ],
   "source": [
    "print('\\nSummary statistics for Put options\\n')\n",
    "\n",
    "df[df[\"cp_flag\"] == 'P'][features].apply(lambda x: get_summary(x), axis=0);"
   ]
  },
  {
   "cell_type": "code",
   "execution_count": 10,
   "metadata": {},
   "outputs": [],
   "source": [
    "features += ['strike', 'spot_close', 'divrate', 'vix', 'short_rate', 'delta', 'date'] #+ ['optid']\n",
    "train_features = features[1:-1]"
   ]
  },
  {
   "cell_type": "code",
   "execution_count": 11,
   "metadata": {},
   "outputs": [],
   "source": [
    "clear_df = df[features]"
   ]
  },
  {
   "cell_type": "code",
   "execution_count": 12,
   "metadata": {},
   "outputs": [],
   "source": [
    "start_date = '2007-01'\n",
    "\n",
    "y_prices = clear_df[clear_df['date'] > start_date]['midprice']"
   ]
  },
  {
   "cell_type": "code",
   "execution_count": 13,
   "metadata": {},
   "outputs": [],
   "source": [
    "def get_splits(df, num=False):\n",
    "    train_pc = 0.85\n",
    "\n",
    "    df_len = df.shape[0]\n",
    "    separator = int(np.floor(df_len*train_pc))\n",
    "    rest = df_len - separator\n",
    "\n",
    "    if num:\n",
    "        return df[:separator], df[separator:]\n",
    "    else:\n",
    "        return np.append(np.ones(separator)*-1,np.zeros(rest))"
   ]
  },
  {
   "cell_type": "markdown",
   "metadata": {},
   "source": [
    "## OLS Regression"
   ]
  },
  {
   "cell_type": "code",
   "execution_count": 2,
   "metadata": {},
   "outputs": [],
   "source": [
    "ols_predictions = np.array([])\n",
    "ols_r_2 = np.array([])\n",
    "ols_r2_better = np.array([])"
   ]
  },
  {
   "cell_type": "code",
   "execution_count": 15,
   "metadata": {},
   "outputs": [],
   "source": [
    "# OLS\n",
    "for current_date in df[df['date'] > start_date]['date'].unique():\n",
    "    \n",
    "    x_train = clear_df[clear_df['date'] < current_date][train_features]\n",
    "    y_train = clear_df[clear_df['date'] < current_date]['midprice']\n",
    "\n",
    "    x_test = clear_df[clear_df['date'] == current_date][train_features]\n",
    "    y_test = clear_df[clear_df['date'] == current_date]['midprice']\n",
    "    \n",
    "    ols = LinearRegression()\n",
    "    ols.fit(x_train, y_train)\n",
    "    \n",
    "    y_pred = ols.predict(x_test)\n",
    "    \n",
    "    # Write predictions to array\n",
    "    ols_predictions = np.append(ols_predictions, y_pred)\n",
    "    \n",
    "    # Write R^2 to array\n",
    "    ols_r_2 = np.append(ols_r_2, ols.score(x_train, y_train))\n",
    "    \n",
    "    ols_r2_better = np.append(ols_r2_better, r2_score(y_test, y_pred))"
   ]
  },
  {
   "cell_type": "code",
   "execution_count": 16,
   "metadata": {},
   "outputs": [
    {
     "data": {
      "text/plain": [
       "0.408"
      ]
     },
     "execution_count": 16,
     "metadata": {},
     "output_type": "execute_result"
    }
   ],
   "source": [
    "np.round(np.mean(ols_r_2), 3)"
   ]
  },
  {
   "cell_type": "code",
   "execution_count": 17,
   "metadata": {},
   "outputs": [
    {
     "data": {
      "text/plain": [
       "19784.398"
      ]
     },
     "execution_count": 17,
     "metadata": {},
     "output_type": "execute_result"
    }
   ],
   "source": [
    "# MSE\n",
    "np.round(mean_squared_error(y_prices, ols_predictions), 3)"
   ]
  },
  {
   "cell_type": "code",
   "execution_count": 3,
   "metadata": {},
   "outputs": [
    {
     "ename": "NameError",
     "evalue": "name 'y_prices' is not defined",
     "output_type": "error",
     "traceback": [
      "\u001b[1;31m---------------------------------------------------------------------------\u001b[0m",
      "\u001b[1;31mNameError\u001b[0m                                 Traceback (most recent call last)",
      "\u001b[1;32m<ipython-input-3-4fade116315d>\u001b[0m in \u001b[0;36m<module>\u001b[1;34m\u001b[0m\n\u001b[1;32m----> 1\u001b[1;33m \u001b[0mnp\u001b[0m\u001b[1;33m.\u001b[0m\u001b[0mround\u001b[0m\u001b[1;33m(\u001b[0m\u001b[0mr2_score\u001b[0m\u001b[1;33m(\u001b[0m\u001b[0my_prices\u001b[0m\u001b[1;33m,\u001b[0m \u001b[0mols_predictions\u001b[0m\u001b[1;33m)\u001b[0m\u001b[1;33m,\u001b[0m \u001b[1;36m3\u001b[0m\u001b[1;33m)\u001b[0m\u001b[1;33m\u001b[0m\u001b[1;33m\u001b[0m\u001b[0m\n\u001b[0m",
      "\u001b[1;31mNameError\u001b[0m: name 'y_prices' is not defined"
     ]
    }
   ],
   "source": [
    "np.round(r2_score(y_prices, ols_predictions), 3)"
   ]
  },
  {
   "cell_type": "code",
   "execution_count": null,
   "metadata": {},
   "outputs": [],
   "source": [
    "np.round(np.mean(ols_r2_better), 3)"
   ]
  },
  {
   "cell_type": "markdown",
   "metadata": {},
   "source": [
    "## Penalized Linear Regressions"
   ]
  },
  {
   "cell_type": "markdown",
   "metadata": {},
   "source": [
    "### Ridge"
   ]
  },
  {
   "cell_type": "code",
   "execution_count": null,
   "metadata": {},
   "outputs": [],
   "source": [
    "ridge_predictions = np.array([])\n",
    "ridge_r_2 = np.array([])\n",
    "ridge_r2_better = np.array([])"
   ]
  },
  {
   "cell_type": "code",
   "execution_count": null,
   "metadata": {},
   "outputs": [],
   "source": [
    "# Make visualization\n",
    "\n",
    "ridge_cv.best_params_\n",
    "ridge_cv.best_score_\n"
   ]
  },
  {
   "cell_type": "code",
   "execution_count": null,
   "metadata": {},
   "outputs": [],
   "source": [
    "# Ridge\n",
    "space = dict()\n",
    "\n",
    "space['solver'] = ['auto','svd', 'cholesky', 'lsqr', 'sparse_cg', 'sag', 'saga']\n",
    "space['alpha'] = np.array([100, 10, 1, 0.1, 0.01, 0.001, 0.0001, 0])\n",
    "space['fit_intercept'] = [True, False]\n",
    "space['normalize'] = [True, False]\n",
    "\n",
    "for current_date in df[df['date'] > start_date]['date'].unique():\n",
    "    \n",
    "    temp = clear_df[clear_df['date'] < current_date]\n",
    "    X, y = temp[train_features], temp['midprice']\n",
    "\n",
    "    ps = PredefinedSplit(get_splits(temp))\n",
    "    cv_scheme = list(ps.split())\n",
    "\n",
    "    ridge = Ridge()\n",
    "\n",
    "    ridge_cv = GridSearchCV(ridge, param_grid=space, cv = cv_scheme)\n",
    "\n",
    "    ridge_cv.fit(X, y)\n",
    "    # train, validation = get_splits(clear_df[clear_df['date'] < '2007-02'], num = True)\n",
    "\n",
    "    # x_train = train[train_features]\n",
    "    # y_train = train['midprice']\n",
    "\n",
    "    # x_valid = validation[train_features]\n",
    "    # y_valid = validation['midprice']\n",
    "    \n",
    "    x_test = clear_df[clear_df['date'] == '2007-02'][train_features]\n",
    "    y_test = clear_df[clear_df['date'] == current_date]['midprice']\n",
    "\n",
    "    y_pred = ridge_cv.predict(x_test)\n",
    "\n",
    "    # Write predictions to array\n",
    "    ridge_predictions = np.append(ridge_predictions, y_pred)\n",
    "\n",
    "    # Write R^2 to array\n",
    "    ridge_r_2 = np.append(ridge_r_2, ridge_cv.score(X, y))\n",
    "    \n",
    "    ridge_r2_better = np.append(ridge_r2_better, r2_score(y_test, y_pred))"
   ]
  },
  {
   "cell_type": "code",
   "execution_count": null,
   "metadata": {},
   "outputs": [],
   "source": [
    "np.round(np.mean(ridge_r_2), 3)"
   ]
  },
  {
   "cell_type": "code",
   "execution_count": null,
   "metadata": {},
   "outputs": [],
   "source": [
    "np.round(mean_squared_error(y_prices, ridge_predictions), 3)"
   ]
  },
  {
   "cell_type": "code",
   "execution_count": null,
   "metadata": {},
   "outputs": [],
   "source": [
    "np.round(r2_score(y_prices, ridge_predictions), 3)"
   ]
  },
  {
   "cell_type": "code",
   "execution_count": null,
   "metadata": {},
   "outputs": [],
   "source": [
    "np.round(np.mean(ridge_r2_better), 3)"
   ]
  }
 ],
 "metadata": {
  "kernelspec": {
   "display_name": "Python 3",
   "language": "python",
   "name": "python3"
  },
  "language_info": {
   "codemirror_mode": {
    "name": "ipython",
    "version": 3
   },
   "file_extension": ".py",
   "mimetype": "text/x-python",
   "name": "python",
   "nbconvert_exporter": "python",
   "pygments_lexer": "ipython3",
   "version": "3.8.3"
  }
 },
 "nbformat": 4,
 "nbformat_minor": 4
}

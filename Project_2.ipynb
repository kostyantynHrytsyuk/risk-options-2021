{
 "cells": [
  {
   "cell_type": "code",
   "execution_count": 1,
   "metadata": {},
   "outputs": [],
   "source": [
    "import pandas as pd\n",
    "import numpy as np\n",
    "\n",
    "from datetime import datetime\n",
    "from dateutil.relativedelta import relativedelta\n",
    "from sklearn.model_selection import TimeSeriesSplit\n",
    "from sklearn.linear_model import LinearRegression\n",
    "from sklearn.metrics import mean_squared_error"
   ]
  },
  {
   "cell_type": "code",
   "execution_count": 2,
   "metadata": {},
   "outputs": [],
   "source": [
    "df = pd.read_csv('data.csv', parse_dates=[1]).sort_values(by = \"date\")\n",
    "df['date'] = df['date'].dt.to_period('M')\n",
    "df = df[277:]"
   ]
  },
  {
   "cell_type": "code",
   "execution_count": 3,
   "metadata": {},
   "outputs": [
    {
     "name": "stdout",
     "output_type": "stream",
     "text": [
      "<class 'pandas.core.frame.DataFrame'>\n",
      "Int64Index: 180537 entries, 113114 to 180813\n",
      "Data columns (total 37 columns):\n",
      " #   Column                           Non-Null Count   Dtype    \n",
      "---  ------                           --------------   -----    \n",
      " 0   optid                            180537 non-null  int64    \n",
      " 1   date                             180537 non-null  period[M]\n",
      " 2   secid                            180537 non-null  int64    \n",
      " 3   cp_flag                          180537 non-null  object   \n",
      " 4   strike                           180537 non-null  float64  \n",
      " 5   bid                              180537 non-null  float64  \n",
      " 6   ask                              180537 non-null  float64  \n",
      " 7   volume                           180537 non-null  float64  \n",
      " 8   openint                          180537 non-null  float64  \n",
      " 9   impvol                           180537 non-null  float64  \n",
      " 10  delta                            180537 non-null  float64  \n",
      " 11  gamma                            180537 non-null  float64  \n",
      " 12  vega                             180537 non-null  float64  \n",
      " 13  theta                            180537 non-null  float64  \n",
      " 14  midprice                         180537 non-null  float64  \n",
      " 15  last_trade_date                  180537 non-null  object   \n",
      " 16  ttm                              180537 non-null  int64    \n",
      " 17  mness                            180537 non-null  float64  \n",
      " 18  embed_lev                        180537 non-null  float64  \n",
      " 19  return_mid                       180537 non-null  float64  \n",
      " 20  return_spot                      180537 non-null  float64  \n",
      " 21  ex_return_mid                    180537 non-null  float64  \n",
      " 22  ex_return_spot                   180537 non-null  float64  \n",
      " 23  dhedged_gain                     180537 non-null  float64  \n",
      " 24  spot_close                       180537 non-null  float64  \n",
      " 25  divrate                          180537 non-null  float64  \n",
      " 26  rate_ttm                         180537 non-null  float64  \n",
      " 27  vix                              180537 non-null  float64  \n",
      " 28  dhedged_return_mid               180537 non-null  float64  \n",
      " 29  dhedged_return_spot              180537 non-null  float64  \n",
      " 30  dhedged_return_spot_gamma        180529 non-null  float64  \n",
      " 31  dhedged_return_mid_delev         180537 non-null  float64  \n",
      " 32  dhedged_return_spot_delev        180537 non-null  float64  \n",
      " 33  dhedged_return_spot_gamma_delev  180529 non-null  float64  \n",
      " 34  IV_mness_deriv_1                 174630 non-null  float64  \n",
      " 35  IV_ttm_deriv_1                   174630 non-null  float64  \n",
      " 36  short_rate                       180537 non-null  float64  \n",
      "dtypes: float64(31), int64(3), object(2), period[M](1)\n",
      "memory usage: 52.3+ MB\n"
     ]
    }
   ],
   "source": [
    "df.info()"
   ]
  },
  {
   "cell_type": "code",
   "execution_count": 4,
   "metadata": {},
   "outputs": [],
   "source": [
    "def get_summary(df_col):\n",
    "    print(f'\\nSummary of {df_col.name}:')\n",
    "    print(f'Mean: {np.round( df_col.mean(),2)}')\n",
    "    print(f'Median: {np.round( df_col.median(),2)}')\n",
    "    print(f'Standard deviation: {np.round( df_col.std(),2)}')\n",
    "    print(f'Number of observations: {np.round( df_col.count(),2)}')    "
   ]
  },
  {
   "cell_type": "code",
   "execution_count": 5,
   "metadata": {},
   "outputs": [],
   "source": [
    "def add_months(date ,period_to_add=1):\n",
    "    return (datetime.strptime(date, '%Y-%m') + relativedelta(months=period_to_add)).strftime('%Y-%m')"
   ]
  },
  {
   "cell_type": "code",
   "execution_count": 6,
   "metadata": {},
   "outputs": [],
   "source": [
    "features = [ 'midprice', 'mness', 'ttm', 'embed_lev', 'impvol', 'gamma', 'vega', 'theta']"
   ]
  },
  {
   "cell_type": "code",
   "execution_count": 7,
   "metadata": {},
   "outputs": [
    {
     "name": "stdout",
     "output_type": "stream",
     "text": [
      "\n",
      "Summary statistics for Call options\n",
      "\n",
      "\n",
      "Summary of midprice:\n",
      "Mean: 91.46\n",
      "Median: 37.39\n",
      "Standard deviation: 163.66\n",
      "Number of observations: 69044\n",
      "\n",
      "Summary of mness:\n",
      "Mean: 0.49\n",
      "Median: 0.31\n",
      "Standard deviation: 1.3\n",
      "Number of observations: 69044\n",
      "\n",
      "Summary of ttm:\n",
      "Mean: 208.87\n",
      "Median: 91.0\n",
      "Standard deviation: 224.3\n",
      "Number of observations: 69044\n",
      "\n",
      "Summary of embed_lev:\n",
      "Mean: 22.17\n",
      "Median: 14.24\n",
      "Standard deviation: 21.85\n",
      "Number of observations: 69044\n",
      "\n",
      "Summary of impvol:\n",
      "Mean: 0.21\n",
      "Median: 0.18\n",
      "Standard deviation: 0.15\n",
      "Number of observations: 69044\n",
      "\n",
      "Summary of gamma:\n",
      "Mean: 0.0\n",
      "Median: 0.0\n",
      "Standard deviation: 0.0\n",
      "Number of observations: 69044\n",
      "\n",
      "Summary of vega:\n",
      "Mean: 240.76\n",
      "Median: 176.03\n",
      "Standard deviation: 230.11\n",
      "Number of observations: 69044\n",
      "\n",
      "Summary of theta:\n",
      "Mean: -56.13\n",
      "Median: -43.84\n",
      "Standard deviation: 51.24\n",
      "Number of observations: 69044\n"
     ]
    }
   ],
   "source": [
    "print('\\nSummary statistics for Call options\\n')\n",
    "df[df[\"cp_flag\"] == 'C'][features].apply(lambda x: get_summary(x), axis=0);"
   ]
  },
  {
   "cell_type": "code",
   "execution_count": 8,
   "metadata": {},
   "outputs": [
    {
     "name": "stdout",
     "output_type": "stream",
     "text": [
      "\n",
      "Summary statistics for Put options\n",
      "\n",
      "\n",
      "Summary of midprice:\n",
      "Mean: 71.67\n",
      "Median: 14.25\n",
      "Standard deviation: 154.16\n",
      "Number of observations: 111493\n",
      "\n",
      "Summary of mness:\n",
      "Mean: -0.9\n",
      "Median: -1.03\n",
      "Standard deviation: 1.43\n",
      "Number of observations: 111493\n",
      "\n",
      "Summary of ttm:\n",
      "Mean: 202.65\n",
      "Median: 91.0\n",
      "Standard deviation: 222.21\n",
      "Number of observations: 111493\n",
      "\n",
      "Summary of embed_lev:\n",
      "Mean: 14.65\n",
      "Median: 11.78\n",
      "Standard deviation: 10.6\n",
      "Number of observations: 111493\n",
      "\n",
      "Summary of impvol:\n",
      "Mean: 0.3\n",
      "Median: 0.26\n",
      "Standard deviation: 0.18\n",
      "Number of observations: 111493\n",
      "\n",
      "Summary of gamma:\n",
      "Mean: 0.0\n",
      "Median: 0.0\n",
      "Standard deviation: 0.0\n",
      "Number of observations: 111493\n",
      "\n",
      "Summary of vega:\n",
      "Mean: 178.92\n",
      "Median: 105.07\n",
      "Standard deviation: 205.27\n",
      "Number of observations: 111493\n",
      "\n",
      "Summary of theta:\n",
      "Mean: -49.22\n",
      "Median: -36.21\n",
      "Standard deviation: 49.53\n",
      "Number of observations: 111493\n"
     ]
    }
   ],
   "source": [
    "print('\\nSummary statistics for Put options\\n')\n",
    "\n",
    "df[df[\"cp_flag\"] == 'P'][features].apply(lambda x: get_summary(x), axis=0);"
   ]
  },
  {
   "cell_type": "code",
   "execution_count": 9,
   "metadata": {},
   "outputs": [],
   "source": [
    "features += ['strike', 'spot_close', 'divrate', 'vix', 'short_rate', 'delta', 'date']# + ['optid']\n",
    "train_features = features[1:-1]"
   ]
  },
  {
   "cell_type": "code",
   "execution_count": 10,
   "metadata": {},
   "outputs": [],
   "source": [
    "clear_df = df[features]"
   ]
  },
  {
   "cell_type": "code",
   "execution_count": 11,
   "metadata": {},
   "outputs": [],
   "source": [
    "start_date = '2007-01'\n",
    "\n",
    "y_valid = clear_df[clear_df['date'] > start_date]['midprice']"
   ]
  },
  {
   "cell_type": "code",
   "execution_count": 12,
   "metadata": {},
   "outputs": [],
   "source": [
    "ols_predictions = np.array([])\n",
    "ols_r_2 = np.array([])"
   ]
  },
  {
   "cell_type": "code",
   "execution_count": 13,
   "metadata": {},
   "outputs": [],
   "source": [
    "for current_date in df[df['date'] > start_date]['date'].unique():\n",
    "    \n",
    "    x_train = clear_df[clear_df['date'] < current_date][train_features]\n",
    "    y_train = clear_df[clear_df['date'] < current_date]['midprice']\n",
    "\n",
    "    x_test = clear_df[clear_df['date'] == current_date][train_features]\n",
    "    y_test = clear_df[clear_df['date'] == current_date]['midprice']\n",
    "    \n",
    "    ols = LinearRegression()\n",
    "    ols.fit(x_train, y_train)\n",
    "    \n",
    "    y_pred = ols.predict(x_test)\n",
    "    \n",
    "    # Write predictions to array\n",
    "    ols_predictions = np.append(ols_predictions, y_pred)\n",
    "    \n",
    "    # Write R^2 to array\n",
    "    ols_r_2 = np.append(ols_r_2, ols.score(x_train, y_train))"
   ]
  },
  {
   "cell_type": "code",
   "execution_count": 19,
   "metadata": {},
   "outputs": [
    {
     "data": {
      "text/plain": [
       "129"
      ]
     },
     "execution_count": 19,
     "metadata": {},
     "output_type": "execute_result"
    }
   ],
   "source": [
    "np.mean(ols_r_2)"
   ]
  },
  {
   "cell_type": "code",
   "execution_count": 17,
   "metadata": {},
   "outputs": [
    {
     "data": {
      "text/plain": [
       "186.35256406047677"
      ]
     },
     "execution_count": 17,
     "metadata": {},
     "output_type": "execute_result"
    }
   ],
   "source": [
    "# MSE\n",
    "np.sqrt(mean_squared_error(y_test, y_pred))"
   ]
  }
 ],
 "metadata": {
  "kernelspec": {
   "display_name": "Python_38",
   "language": "python",
   "name": "python_38"
  },
  "language_info": {
   "codemirror_mode": {
    "name": "ipython",
    "version": 3
   },
   "file_extension": ".py",
   "mimetype": "text/x-python",
   "name": "python",
   "nbconvert_exporter": "python",
   "pygments_lexer": "ipython3",
   "version": "3.8.6"
  }
 },
 "nbformat": 4,
 "nbformat_minor": 4
}

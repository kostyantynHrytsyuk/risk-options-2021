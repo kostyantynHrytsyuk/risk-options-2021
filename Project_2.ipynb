{
 "cells": [
  {
   "cell_type": "code",
   "execution_count": 31,
   "metadata": {},
   "outputs": [],
   "source": [
    "import pandas as pd\n",
    "import numpy as np\n",
    "\n",
    "from datetime import datetime\n",
    "from dateutil.relativedelta import relativedelta\n",
    "from scipy.stats import loguniform\n",
    "from sklearn.model_selection import PredefinedSplit, GridSearchCV\n",
    "from sklearn.linear_model import LinearRegression, Ridge, Lasso, ElasticNet \n",
    "from sklearn.metrics import mean_squared_error, r2_score"
   ]
  },
  {
   "cell_type": "code",
   "execution_count": 32,
   "metadata": {},
   "outputs": [],
   "source": [
    "df = pd.read_csv('data.csv', parse_dates=[1]).sort_values(by = \"date\")\n",
    "df['date'] = df['date'].dt.to_period('M')\n",
    "df = df[277:].reset_index(drop=True)"
   ]
  },
  {
   "cell_type": "code",
   "execution_count": 33,
   "metadata": {},
   "outputs": [],
   "source": [
    "# For testing\n",
    "df = df[df['date'] < '2008-01']"
   ]
  },
  {
   "cell_type": "code",
   "execution_count": 34,
   "metadata": {},
   "outputs": [
    {
     "data": {
      "text/html": [
       "<div>\n",
       "<style scoped>\n",
       "    .dataframe tbody tr th:only-of-type {\n",
       "        vertical-align: middle;\n",
       "    }\n",
       "\n",
       "    .dataframe tbody tr th {\n",
       "        vertical-align: top;\n",
       "    }\n",
       "\n",
       "    .dataframe thead th {\n",
       "        text-align: right;\n",
       "    }\n",
       "</style>\n",
       "<table border=\"1\" class=\"dataframe\">\n",
       "  <thead>\n",
       "    <tr style=\"text-align: right;\">\n",
       "      <th></th>\n",
       "      <th>optid</th>\n",
       "      <th>date</th>\n",
       "      <th>secid</th>\n",
       "      <th>cp_flag</th>\n",
       "      <th>strike</th>\n",
       "      <th>bid</th>\n",
       "      <th>ask</th>\n",
       "      <th>volume</th>\n",
       "      <th>openint</th>\n",
       "      <th>impvol</th>\n",
       "      <th>...</th>\n",
       "      <th>vix</th>\n",
       "      <th>dhedged_return_mid</th>\n",
       "      <th>dhedged_return_spot</th>\n",
       "      <th>dhedged_return_spot_gamma</th>\n",
       "      <th>dhedged_return_mid_delev</th>\n",
       "      <th>dhedged_return_spot_delev</th>\n",
       "      <th>dhedged_return_spot_gamma_delev</th>\n",
       "      <th>IV_mness_deriv_1</th>\n",
       "      <th>IV_ttm_deriv_1</th>\n",
       "      <th>short_rate</th>\n",
       "    </tr>\n",
       "  </thead>\n",
       "  <tbody>\n",
       "    <tr>\n",
       "      <th>0</th>\n",
       "      <td>10758593</td>\n",
       "      <td>1996-03</td>\n",
       "      <td>108105</td>\n",
       "      <td>C</td>\n",
       "      <td>630.0</td>\n",
       "      <td>20.000</td>\n",
       "      <td>20.500</td>\n",
       "      <td>7.0</td>\n",
       "      <td>2885.0</td>\n",
       "      <td>0.163628</td>\n",
       "      <td>...</td>\n",
       "      <td>16.54</td>\n",
       "      <td>-0.162051</td>\n",
       "      <td>-0.005116</td>\n",
       "      <td>-0.453583</td>\n",
       "      <td>-0.007654</td>\n",
       "      <td>-0.000242</td>\n",
       "      <td>-0.021423</td>\n",
       "      <td>-0.034178</td>\n",
       "      <td>0.000045</td>\n",
       "      <td>0.054624</td>\n",
       "    </tr>\n",
       "    <tr>\n",
       "      <th>1</th>\n",
       "      <td>10093854</td>\n",
       "      <td>1996-03</td>\n",
       "      <td>108105</td>\n",
       "      <td>P</td>\n",
       "      <td>650.0</td>\n",
       "      <td>17.500</td>\n",
       "      <td>18.250</td>\n",
       "      <td>126.0</td>\n",
       "      <td>2383.0</td>\n",
       "      <td>0.143119</td>\n",
       "      <td>...</td>\n",
       "      <td>16.54</td>\n",
       "      <td>-0.161114</td>\n",
       "      <td>-0.004490</td>\n",
       "      <td>-0.430225</td>\n",
       "      <td>-0.008292</td>\n",
       "      <td>-0.000231</td>\n",
       "      <td>-0.022141</td>\n",
       "      <td>-0.025132</td>\n",
       "      <td>0.000005</td>\n",
       "      <td>0.054624</td>\n",
       "    </tr>\n",
       "    <tr>\n",
       "      <th>2</th>\n",
       "      <td>10453184</td>\n",
       "      <td>1996-03</td>\n",
       "      <td>108105</td>\n",
       "      <td>P</td>\n",
       "      <td>675.0</td>\n",
       "      <td>33.625</td>\n",
       "      <td>34.625</td>\n",
       "      <td>0.0</td>\n",
       "      <td>202.0</td>\n",
       "      <td>0.133780</td>\n",
       "      <td>...</td>\n",
       "      <td>16.54</td>\n",
       "      <td>-0.032381</td>\n",
       "      <td>-0.001723</td>\n",
       "      <td>-0.212260</td>\n",
       "      <td>-0.002190</td>\n",
       "      <td>-0.000117</td>\n",
       "      <td>-0.014357</td>\n",
       "      <td>-0.008622</td>\n",
       "      <td>-0.000010</td>\n",
       "      <td>0.054624</td>\n",
       "    </tr>\n",
       "    <tr>\n",
       "      <th>3</th>\n",
       "      <td>11075738</td>\n",
       "      <td>1996-03</td>\n",
       "      <td>108105</td>\n",
       "      <td>P</td>\n",
       "      <td>650.0</td>\n",
       "      <td>35.000</td>\n",
       "      <td>36.500</td>\n",
       "      <td>13.0</td>\n",
       "      <td>2376.0</td>\n",
       "      <td>0.153038</td>\n",
       "      <td>...</td>\n",
       "      <td>16.54</td>\n",
       "      <td>-0.034062</td>\n",
       "      <td>-0.001898</td>\n",
       "      <td>-0.684611</td>\n",
       "      <td>-0.005364</td>\n",
       "      <td>-0.000299</td>\n",
       "      <td>-0.107810</td>\n",
       "      <td>-0.029598</td>\n",
       "      <td>0.000015</td>\n",
       "      <td>0.054624</td>\n",
       "    </tr>\n",
       "    <tr>\n",
       "      <th>4</th>\n",
       "      <td>11727207</td>\n",
       "      <td>1996-03</td>\n",
       "      <td>108105</td>\n",
       "      <td>C</td>\n",
       "      <td>655.0</td>\n",
       "      <td>30.250</td>\n",
       "      <td>31.250</td>\n",
       "      <td>7120.0</td>\n",
       "      <td>8000.0</td>\n",
       "      <td>0.146335</td>\n",
       "      <td>...</td>\n",
       "      <td>16.54</td>\n",
       "      <td>-0.019832</td>\n",
       "      <td>-0.000951</td>\n",
       "      <td>-0.160711</td>\n",
       "      <td>-0.001621</td>\n",
       "      <td>-0.000078</td>\n",
       "      <td>-0.013133</td>\n",
       "      <td>NaN</td>\n",
       "      <td>NaN</td>\n",
       "      <td>0.054624</td>\n",
       "    </tr>\n",
       "  </tbody>\n",
       "</table>\n",
       "<p>5 rows × 37 columns</p>\n",
       "</div>"
      ],
      "text/plain": [
       "      optid     date   secid cp_flag  strike     bid     ask  volume  openint  \\\n",
       "0  10758593  1996-03  108105       C   630.0  20.000  20.500     7.0   2885.0   \n",
       "1  10093854  1996-03  108105       P   650.0  17.500  18.250   126.0   2383.0   \n",
       "2  10453184  1996-03  108105       P   675.0  33.625  34.625     0.0    202.0   \n",
       "3  11075738  1996-03  108105       P   650.0  35.000  36.500    13.0   2376.0   \n",
       "4  11727207  1996-03  108105       C   655.0  30.250  31.250  7120.0   8000.0   \n",
       "\n",
       "     impvol  ...    vix  dhedged_return_mid  dhedged_return_spot  \\\n",
       "0  0.163628  ...  16.54           -0.162051            -0.005116   \n",
       "1  0.143119  ...  16.54           -0.161114            -0.004490   \n",
       "2  0.133780  ...  16.54           -0.032381            -0.001723   \n",
       "3  0.153038  ...  16.54           -0.034062            -0.001898   \n",
       "4  0.146335  ...  16.54           -0.019832            -0.000951   \n",
       "\n",
       "   dhedged_return_spot_gamma  dhedged_return_mid_delev  \\\n",
       "0                  -0.453583                 -0.007654   \n",
       "1                  -0.430225                 -0.008292   \n",
       "2                  -0.212260                 -0.002190   \n",
       "3                  -0.684611                 -0.005364   \n",
       "4                  -0.160711                 -0.001621   \n",
       "\n",
       "  dhedged_return_spot_delev  dhedged_return_spot_gamma_delev  \\\n",
       "0                 -0.000242                        -0.021423   \n",
       "1                 -0.000231                        -0.022141   \n",
       "2                 -0.000117                        -0.014357   \n",
       "3                 -0.000299                        -0.107810   \n",
       "4                 -0.000078                        -0.013133   \n",
       "\n",
       "   IV_mness_deriv_1  IV_ttm_deriv_1  short_rate  \n",
       "0         -0.034178        0.000045    0.054624  \n",
       "1         -0.025132        0.000005    0.054624  \n",
       "2         -0.008622       -0.000010    0.054624  \n",
       "3         -0.029598        0.000015    0.054624  \n",
       "4               NaN             NaN    0.054624  \n",
       "\n",
       "[5 rows x 37 columns]"
      ]
     },
     "execution_count": 34,
     "metadata": {},
     "output_type": "execute_result"
    }
   ],
   "source": [
    "df.head()"
   ]
  },
  {
   "cell_type": "code",
   "execution_count": 35,
   "metadata": {},
   "outputs": [
    {
     "name": "stdout",
     "output_type": "stream",
     "text": [
      "<class 'pandas.core.frame.DataFrame'>\n",
      "Int64Index: 52914 entries, 0 to 52913\n",
      "Data columns (total 37 columns):\n",
      " #   Column                           Non-Null Count  Dtype    \n",
      "---  ------                           --------------  -----    \n",
      " 0   optid                            52914 non-null  int64    \n",
      " 1   date                             52914 non-null  period[M]\n",
      " 2   secid                            52914 non-null  int64    \n",
      " 3   cp_flag                          52914 non-null  object   \n",
      " 4   strike                           52914 non-null  float64  \n",
      " 5   bid                              52914 non-null  float64  \n",
      " 6   ask                              52914 non-null  float64  \n",
      " 7   volume                           52914 non-null  float64  \n",
      " 8   openint                          52914 non-null  float64  \n",
      " 9   impvol                           52914 non-null  float64  \n",
      " 10  delta                            52914 non-null  float64  \n",
      " 11  gamma                            52914 non-null  float64  \n",
      " 12  vega                             52914 non-null  float64  \n",
      " 13  theta                            52914 non-null  float64  \n",
      " 14  midprice                         52914 non-null  float64  \n",
      " 15  last_trade_date                  52914 non-null  object   \n",
      " 16  ttm                              52914 non-null  int64    \n",
      " 17  mness                            52914 non-null  float64  \n",
      " 18  embed_lev                        52914 non-null  float64  \n",
      " 19  return_mid                       52914 non-null  float64  \n",
      " 20  return_spot                      52914 non-null  float64  \n",
      " 21  ex_return_mid                    52914 non-null  float64  \n",
      " 22  ex_return_spot                   52914 non-null  float64  \n",
      " 23  dhedged_gain                     52914 non-null  float64  \n",
      " 24  spot_close                       52914 non-null  float64  \n",
      " 25  divrate                          52914 non-null  float64  \n",
      " 26  rate_ttm                         52914 non-null  float64  \n",
      " 27  vix                              52914 non-null  float64  \n",
      " 28  dhedged_return_mid               52914 non-null  float64  \n",
      " 29  dhedged_return_spot              52914 non-null  float64  \n",
      " 30  dhedged_return_spot_gamma        52914 non-null  float64  \n",
      " 31  dhedged_return_mid_delev         52914 non-null  float64  \n",
      " 32  dhedged_return_spot_delev        52914 non-null  float64  \n",
      " 33  dhedged_return_spot_gamma_delev  52914 non-null  float64  \n",
      " 34  IV_mness_deriv_1                 50318 non-null  float64  \n",
      " 35  IV_ttm_deriv_1                   50318 non-null  float64  \n",
      " 36  short_rate                       52914 non-null  float64  \n",
      "dtypes: float64(31), int64(3), object(2), period[M](1)\n",
      "memory usage: 15.3+ MB\n"
     ]
    }
   ],
   "source": [
    "df.info()"
   ]
  },
  {
   "cell_type": "code",
   "execution_count": 36,
   "metadata": {},
   "outputs": [],
   "source": [
    "def get_summary(df_col):\n",
    "    print(f'\\nSummary of {df_col.name}:')\n",
    "    print(f'Mean: {np.round( df_col.mean(),2)}')\n",
    "    print(f'Median: {np.round( df_col.median(),2)}')\n",
    "    print(f'Standard deviation: {np.round( df_col.std(),2)}')\n",
    "    print(f'Number of observations: {np.round( df_col.count(),2)}')    "
   ]
  },
  {
   "cell_type": "code",
   "execution_count": 37,
   "metadata": {},
   "outputs": [],
   "source": [
    "def add_months(date ,period_to_add=1):\n",
    "    return (datetime.strptime(date, '%Y-%m') + relativedelta(months=period_to_add)).strftime('%Y-%m')"
   ]
  },
  {
   "cell_type": "code",
   "execution_count": 38,
   "metadata": {},
   "outputs": [],
   "source": [
    "features = [ 'midprice', 'mness', 'ttm', 'embed_lev', 'impvol', 'gamma', 'vega', 'theta']"
   ]
  },
  {
   "cell_type": "code",
   "execution_count": 39,
   "metadata": {},
   "outputs": [
    {
     "name": "stdout",
     "output_type": "stream",
     "text": [
      "\n",
      "Summary statistics for Call options\n",
      "\n",
      "\n",
      "Summary of midprice:\n",
      "Mean: 77.56\n",
      "Median: 40.9\n",
      "Standard deviation: 100.56\n",
      "Number of observations: 22546\n",
      "\n",
      "Summary of mness:\n",
      "Mean: 0.41\n",
      "Median: 0.25\n",
      "Standard deviation: 1.16\n",
      "Number of observations: 22546\n",
      "\n",
      "Summary of ttm:\n",
      "Mean: 203.15\n",
      "Median: 126.0\n",
      "Standard deviation: 192.24\n",
      "Number of observations: 22546\n",
      "\n",
      "Summary of embed_lev:\n",
      "Mean: 18.22\n",
      "Median: 12.47\n",
      "Standard deviation: 16.89\n",
      "Number of observations: 22546\n",
      "\n",
      "Summary of impvol:\n",
      "Mean: 0.21\n",
      "Median: 0.19\n",
      "Standard deviation: 0.11\n",
      "Number of observations: 22546\n",
      "\n",
      "Summary of gamma:\n",
      "Mean: 0.0\n",
      "Median: 0.0\n",
      "Standard deviation: 0.0\n",
      "Number of observations: 22546\n",
      "\n",
      "Summary of vega:\n",
      "Mean: 211.09\n",
      "Median: 166.22\n",
      "Standard deviation: 173.31\n",
      "Number of observations: 22546\n",
      "\n",
      "Summary of theta:\n",
      "Mean: -67.15\n",
      "Median: -56.08\n",
      "Standard deviation: 51.92\n",
      "Number of observations: 22546\n"
     ]
    }
   ],
   "source": [
    "print('\\nSummary statistics for Call options\\n')\n",
    "df[df[\"cp_flag\"] == 'C'][features].apply(lambda x: get_summary(x), axis=0);"
   ]
  },
  {
   "cell_type": "code",
   "execution_count": 40,
   "metadata": {},
   "outputs": [
    {
     "name": "stdout",
     "output_type": "stream",
     "text": [
      "\n",
      "Summary statistics for Put options\n",
      "\n",
      "\n",
      "Summary of midprice:\n",
      "Mean: 73.9\n",
      "Median: 27.75\n",
      "Standard deviation: 116.3\n",
      "Number of observations: 30368\n",
      "\n",
      "Summary of mness:\n",
      "Mean: -0.37\n",
      "Median: -0.39\n",
      "Standard deviation: 1.28\n",
      "Number of observations: 30368\n",
      "\n",
      "Summary of ttm:\n",
      "Mean: 214.31\n",
      "Median: 147.0\n",
      "Standard deviation: 200.25\n",
      "Number of observations: 30368\n",
      "\n",
      "Summary of embed_lev:\n",
      "Mean: 13.51\n",
      "Median: 10.17\n",
      "Standard deviation: 10.4\n",
      "Number of observations: 30368\n",
      "\n",
      "Summary of impvol:\n",
      "Mean: 0.24\n",
      "Median: 0.22\n",
      "Standard deviation: 0.11\n",
      "Number of observations: 30368\n",
      "\n",
      "Summary of gamma:\n",
      "Mean: 0.0\n",
      "Median: 0.0\n",
      "Standard deviation: 0.0\n",
      "Number of observations: 30368\n",
      "\n",
      "Summary of vega:\n",
      "Mean: 186.45\n",
      "Median: 138.34\n",
      "Standard deviation: 166.36\n",
      "Number of observations: 30368\n",
      "\n",
      "Summary of theta:\n",
      "Mean: -34.3\n",
      "Median: -25.01\n",
      "Standard deviation: 42.8\n",
      "Number of observations: 30368\n"
     ]
    }
   ],
   "source": [
    "print('\\nSummary statistics for Put options\\n')\n",
    "\n",
    "df[df[\"cp_flag\"] == 'P'][features].apply(lambda x: get_summary(x), axis=0);"
   ]
  },
  {
   "cell_type": "code",
   "execution_count": 41,
   "metadata": {},
   "outputs": [],
   "source": [
    "features += ['strike', 'spot_close', 'divrate', 'vix', 'short_rate', 'delta', 'date'] #+ ['optid']\n",
    "train_features = features[1:-1]"
   ]
  },
  {
   "cell_type": "code",
   "execution_count": 42,
   "metadata": {},
   "outputs": [],
   "source": [
    "clear_df = df[features]"
   ]
  },
  {
   "cell_type": "code",
   "execution_count": 43,
   "metadata": {},
   "outputs": [],
   "source": [
    "start_date = '2007-01'\n",
    "\n",
    "y_prices = clear_df[clear_df['date'] > start_date]['midprice']"
   ]
  },
  {
   "cell_type": "code",
   "execution_count": 44,
   "metadata": {},
   "outputs": [],
   "source": [
    "def get_splits(df, num=False):\n",
    "    train_pc = 0.85\n",
    "\n",
    "    df_len = df.shape[0]\n",
    "    separator = int(np.floor(df_len*train_pc))\n",
    "    rest = df_len - separator\n",
    "\n",
    "    if num:\n",
    "        return df[:separator], df[separator:]\n",
    "    else:\n",
    "        return np.append(np.ones(separator)*-1,np.zeros(rest))"
   ]
  },
  {
   "cell_type": "markdown",
   "metadata": {},
   "source": [
    "## OLS Regression"
   ]
  },
  {
   "cell_type": "code",
   "execution_count": 15,
   "metadata": {},
   "outputs": [],
   "source": [
    "ols_predictions = np.array([])\n",
    "ols_r_2 = np.array([])\n",
    "ols_r2_better = np.array([])"
   ]
  },
  {
   "cell_type": "code",
   "execution_count": 16,
   "metadata": {},
   "outputs": [],
   "source": [
    "# OLS\n",
    "for current_date in df[df['date'] > start_date]['date'].unique():\n",
    "    \n",
    "    x_train = clear_df[clear_df['date'] < current_date][train_features]\n",
    "    y_train = clear_df[clear_df['date'] < current_date]['midprice']\n",
    "\n",
    "    x_test = clear_df[clear_df['date'] == current_date][train_features]\n",
    "    y_test = clear_df[clear_df['date'] == current_date]['midprice']\n",
    "    \n",
    "    ols = LinearRegression()\n",
    "    ols.fit(x_train, y_train)\n",
    "    \n",
    "    y_pred = ols.predict(x_test)\n",
    "    \n",
    "    # Write predictions to array\n",
    "    ols_predictions = np.append(ols_predictions, y_pred)\n",
    "    \n",
    "    # Write R^2 to array\n",
    "    ols_r_2 = np.append(ols_r_2, ols.score(x_train, y_train))\n",
    "    \n",
    "    ols_r2_better = np.append(ols_r2_better, r2_score(y_test, y_pred))"
   ]
  },
  {
   "cell_type": "code",
   "execution_count": 17,
   "metadata": {},
   "outputs": [
    {
     "data": {
      "text/plain": [
       "0.408"
      ]
     },
     "execution_count": 17,
     "metadata": {},
     "output_type": "execute_result"
    }
   ],
   "source": [
    "np.round(np.mean(ols_r_2), 3)"
   ]
  },
  {
   "cell_type": "code",
   "execution_count": 18,
   "metadata": {},
   "outputs": [
    {
     "data": {
      "text/plain": [
       "19784.398"
      ]
     },
     "execution_count": 18,
     "metadata": {},
     "output_type": "execute_result"
    }
   ],
   "source": [
    "# MSE\n",
    "np.round(mean_squared_error(y_prices, ols_predictions), 3)"
   ]
  },
  {
   "cell_type": "code",
   "execution_count": 19,
   "metadata": {},
   "outputs": [
    {
     "data": {
      "text/plain": [
       "0.329"
      ]
     },
     "execution_count": 19,
     "metadata": {},
     "output_type": "execute_result"
    }
   ],
   "source": [
    "np.round(r2_score(y_prices, ols_predictions), 3)"
   ]
  },
  {
   "cell_type": "code",
   "execution_count": 20,
   "metadata": {},
   "outputs": [
    {
     "data": {
      "text/plain": [
       "0.289"
      ]
     },
     "execution_count": 20,
     "metadata": {},
     "output_type": "execute_result"
    }
   ],
   "source": [
    "np.round(np.mean(ols_r2_better), 3)"
   ]
  },
  {
   "cell_type": "markdown",
   "metadata": {},
   "source": [
    "## Penalized Linear Regressions"
   ]
  },
  {
   "cell_type": "markdown",
   "metadata": {},
   "source": [
    "### Ridge"
   ]
  },
  {
   "cell_type": "code",
   "execution_count": 21,
   "metadata": {},
   "outputs": [],
   "source": [
    "ridge_predictions = np.array([])\n",
    "ridge_r_2 = np.array([])\n",
    "ridge_r2_better = np.array([])"
   ]
  },
  {
   "cell_type": "code",
   "execution_count": 22,
   "metadata": {},
   "outputs": [],
   "source": [
    "# Make visualization\n",
    "\n",
    "# ridge_cv.best_params_\n",
    "# ridge_cv.best_score_\n"
   ]
  },
  {
   "cell_type": "code",
   "execution_count": 23,
   "metadata": {},
   "outputs": [],
   "source": [
    "# Ridge\n",
    "space = dict()\n",
    "\n",
    "space['solver'] = ['auto','svd', 'cholesky', 'lsqr', 'sparse_cg', 'sag', 'saga']\n",
    "space['alpha'] = np.array([10.0, 1.0, 0.1, 0.01, 0.001, 0])\n",
    "\n",
    "for current_date in df[df['date'] > start_date]['date'].unique():\n",
    "    temp = clear_df[clear_df['date'] < current_date]\n",
    "    X, y = temp[train_features], temp['midprice']\n",
    "\n",
    "    ps = PredefinedSplit(get_splits(temp))\n",
    "    cv_scheme = list(ps.split())\n",
    "\n",
    "    ridge = Ridge(scoring='r2', fit_intercept=True, normalize=True)\n",
    "\n",
    "    ridge_cv = GridSearchCV(ridge, param_grid=space, scoring='r2', cv = cv_scheme)\n",
    "\n",
    "    ridge_cv.fit(X, y)\n",
    "    \n",
    "    # train, validation = get_splits(clear_df[clear_df['date'] < '2007-02'], num = True)\n",
    "\n",
    "    # x_train = train[train_features]\n",
    "    # y_train = train['midprice']\n",
    "\n",
    "    # x_valid = validation[train_features]\n",
    "    # y_valid = validation['midprice']\n",
    "    \n",
    "    x_test = clear_df[clear_df['date'] == current_date][train_features]\n",
    "    y_test = clear_df[clear_df['date'] == current_date]['midprice']\n",
    "\n",
    "    y_pred = ridge_cv.predict(x_test)\n",
    "\n",
    "    # Write predictions to array\n",
    "    ridge_predictions = np.append(ridge_predictions, y_pred)\n",
    "\n",
    "    # Write R^2 to array\n",
    "    ridge_r_2 = np.append(ridge_r_2, ridge_cv.score(X, y))\n",
    "    \n",
    "    ridge_r2_better = np.append(ridge_r2_better, r2_score(y_test, y_pred))"
   ]
  },
  {
   "cell_type": "code",
   "execution_count": 24,
   "metadata": {},
   "outputs": [
    {
     "data": {
      "text/plain": [
       "0.388"
      ]
     },
     "execution_count": 24,
     "metadata": {},
     "output_type": "execute_result"
    }
   ],
   "source": [
    "np.round(np.mean(ridge_r_2), 3)"
   ]
  },
  {
   "cell_type": "code",
   "execution_count": 25,
   "metadata": {},
   "outputs": [
    {
     "data": {
      "text/plain": [
       "19767.199"
      ]
     },
     "execution_count": 25,
     "metadata": {},
     "output_type": "execute_result"
    }
   ],
   "source": [
    "np.round(mean_squared_error(y_prices, ridge_predictions), 3)"
   ]
  },
  {
   "cell_type": "code",
   "execution_count": 26,
   "metadata": {},
   "outputs": [
    {
     "data": {
      "text/plain": [
       "0.329"
      ]
     },
     "execution_count": 26,
     "metadata": {},
     "output_type": "execute_result"
    }
   ],
   "source": [
    "np.round(r2_score(y_prices, ridge_predictions), 3)"
   ]
  },
  {
   "cell_type": "code",
   "execution_count": 27,
   "metadata": {},
   "outputs": [
    {
     "data": {
      "text/plain": [
       "0.307"
      ]
     },
     "execution_count": 27,
     "metadata": {},
     "output_type": "execute_result"
    }
   ],
   "source": [
    "np.round(np.mean(ridge_r2_better), 3)"
   ]
  },
  {
   "cell_type": "markdown",
   "metadata": {},
   "source": [
    "### Lasso"
   ]
  },
  {
   "cell_type": "code",
   "execution_count": 28,
   "metadata": {},
   "outputs": [],
   "source": [
    "lasso_predictions = np.array([])\n",
    "lasso_r_2 = np.array([])\n",
    "lasso_r2_better = np.array([])"
   ]
  },
  {
   "cell_type": "code",
   "execution_count": 29,
   "metadata": {},
   "outputs": [],
   "source": [
    "# Lasso\n",
    "space = dict()\n",
    "\n",
    "space['alpha'] = np.array([10.0, 1.0, 0.1, 0.01, 0.001])\n",
    "\n",
    "for current_date in df[df['date'] > start_date]['date'].unique():\n",
    "    temp = clear_df[clear_df['date'] < current_date]\n",
    "    X, y = temp[train_features], temp['midprice']\n",
    "\n",
    "    ps = PredefinedSplit(get_splits(temp))\n",
    "    cv_scheme = list(ps.split())\n",
    "\n",
    "    lasso = Lasso(fit_intercept=True, normalize=True)\n",
    "    \n",
    "    lasso_cv = GridSearchCV(lasso, param_grid=space, scoring='r2', cv = cv_scheme)\n",
    "    \n",
    "    lasso_cv.fit(X, y)\n",
    "        \n",
    "    x_test = clear_df[clear_df['date'] == current_date][train_features]\n",
    "    y_test = clear_df[clear_df['date'] == current_date]['midprice']\n",
    "    \n",
    "    y_pred = lasso_cv.predict(x_test)\n",
    "    \n",
    "    # Write predictions to array\n",
    "    lasso_predictions = np.append(lasso_predictions, y_pred)\n",
    "    \n",
    "    # Write R^2 to array\n",
    "    lasso_r_2 = np.append(lasso_r_2, lasso_cv.score(X, y))\n",
    "    \n",
    "    lasso_r2_better = np.append(lasso_r2_better, r2_score(y_test, y_pred))"
   ]
  },
  {
   "cell_type": "markdown",
   "metadata": {},
   "source": [
    "### ElasticNet"
   ]
  },
  {
   "cell_type": "code",
   "execution_count": 45,
   "metadata": {},
   "outputs": [],
   "source": [
    "elastic_net_predictions = np.array([])\n",
    "elastic_net_r_2 = np.array([])\n",
    "elastic_net_r2_better = np.array([])"
   ]
  },
  {
   "cell_type": "code",
   "execution_count": 54,
   "metadata": {
    "scrolled": false
   },
   "outputs": [
    {
     "name": "stdout",
     "output_type": "stream",
     "text": [
      "2007-02\n",
      "{'alpha': 0.001, 'l1_ratio': 0.9650000000000001}\n",
      "2007-03\n",
      "{'alpha': 0.001, 'l1_ratio': 0.9650000000000001}\n",
      "2007-04\n",
      "{'alpha': 0.001, 'l1_ratio': 0.9650000000000001}\n",
      "2007-05\n",
      "{'alpha': 0.001, 'l1_ratio': 0.9650000000000001}\n",
      "2007-06\n",
      "{'alpha': 0.001, 'l1_ratio': 0.9700000000000001}\n",
      "2007-07\n",
      "{'alpha': 0.001, 'l1_ratio': 0.9700000000000001}\n",
      "2007-08\n",
      "{'alpha': 0.001, 'l1_ratio': 0.9700000000000001}\n",
      "2007-09\n",
      "{'alpha': 0.001, 'l1_ratio': 0.9750000000000001}\n",
      "2007-10\n",
      "{'alpha': 0.001, 'l1_ratio': 0.9750000000000001}\n",
      "2007-11\n",
      "{'alpha': 0.001, 'l1_ratio': 0.9800000000000001}\n",
      "2007-12\n",
      "{'alpha': 0.001, 'l1_ratio': 0.9800000000000001}\n"
     ]
    }
   ],
   "source": [
    "# ElasticNet\n",
    "space = dict()\n",
    "\n",
    "space['alpha'] = np.array([1.0, 0.01, 0.001, 0.0001])\n",
    "space['l1_ratio'] = np.arange(0.95, 1, 0.005)\n",
    "\n",
    "for current_date in df[df['date'] > start_date]['date'].unique():\n",
    "    print(current_date)\n",
    "    temp = clear_df[clear_df['date'] < current_date]\n",
    "    X, y = temp[train_features], temp['midprice']\n",
    "\n",
    "    ps = PredefinedSplit(get_splits(temp))\n",
    "    cv_scheme = list(ps.split())\n",
    "    \n",
    "    elastic_net = ElasticNet(fit_intercept=True, normalize=True)\n",
    "    \n",
    "    elastic_net_cv = GridSearchCV(elastic_net, param_grid=space, scoring='r2', cv = cv_scheme)\n",
    "    \n",
    "    elastic_net_cv.fit(X, y)\n",
    "    \n",
    "    print(elastic_net_cv.best_params_)\n",
    "    \n",
    "    x_test = clear_df[clear_df['date'] == current_date][train_features]\n",
    "    y_test = clear_df[clear_df['date'] == current_date]['midprice']\n",
    "    \n",
    "    y_pred = elastic_net_cv.predict(x_test)\n",
    "    \n",
    "    # Write predictions to array\n",
    "    elastic_net_predictions = np.append(elastic_net_predictions, y_pred)\n",
    "    \n",
    "    # Write R^2 to array\n",
    "    elastic_net_r_2 = np.append(elastic_net_r_2, elastic_net_cv.score(X, y))\n",
    "    \n",
    "    elastic_net_r2_better = np.append(elastic_net_r2_better, r2_score(y_test, y_pred))"
   ]
  },
  {
   "cell_type": "code",
   "execution_count": null,
   "metadata": {},
   "outputs": [],
   "source": []
  }
 ],
 "metadata": {
  "kernelspec": {
   "display_name": "Python_38",
   "language": "python",
   "name": "python_38"
  },
  "language_info": {
   "codemirror_mode": {
    "name": "ipython",
    "version": 3
   },
   "file_extension": ".py",
   "mimetype": "text/x-python",
   "name": "python",
   "nbconvert_exporter": "python",
   "pygments_lexer": "ipython3",
   "version": "3.8.6"
  }
 },
 "nbformat": 4,
 "nbformat_minor": 4
}

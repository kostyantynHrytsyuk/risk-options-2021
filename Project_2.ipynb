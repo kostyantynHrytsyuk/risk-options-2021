{
 "cells": [
  {
   "cell_type": "code",
   "execution_count": 1,
   "metadata": {},
   "outputs": [],
   "source": [
    "import pandas as pd\n",
    "import numpy as np\n",
    "\n",
    "from datetime import datetime\n",
    "from dateutil.relativedelta import relativedelta\n",
    "from scipy.stats import loguniform\n",
    "from sklearn.model_selection import PredefinedSplit, GridSearchCV\n",
    "from sklearn.linear_model import LinearRegression, Ridge, Lasso, ElasticNet \n",
    "from sklearn.metrics import mean_squared_error, r2_score"
   ]
  },
  {
   "cell_type": "code",
   "execution_count": 26,
   "metadata": {},
   "outputs": [],
   "source": [
    "df = pd.read_csv('data.csv', parse_dates=[1]).sort_values(by = \"date\")\n",
    "df['date'] = df['date'].dt.to_period('M')\n",
    "df = df[277:].reset_index(drop=True)"
   ]
  },
  {
   "cell_type": "code",
   "execution_count": null,
   "metadata": {},
   "outputs": [],
   "source": [
    "# For testing\n",
    "df = df[df['date'] < '2008-01']"
   ]
  },
  {
   "cell_type": "code",
   "execution_count": 8,
   "metadata": {},
   "outputs": [
    {
     "data": {
      "text/html": [
       "<div>\n",
       "<style scoped>\n",
       "    .dataframe tbody tr th:only-of-type {\n",
       "        vertical-align: middle;\n",
       "    }\n",
       "\n",
       "    .dataframe tbody tr th {\n",
       "        vertical-align: top;\n",
       "    }\n",
       "\n",
       "    .dataframe thead th {\n",
       "        text-align: right;\n",
       "    }\n",
       "</style>\n",
       "<table border=\"1\" class=\"dataframe\">\n",
       "  <thead>\n",
       "    <tr style=\"text-align: right;\">\n",
       "      <th></th>\n",
       "      <th>optid</th>\n",
       "      <th>date</th>\n",
       "      <th>secid</th>\n",
       "      <th>cp_flag</th>\n",
       "      <th>strike</th>\n",
       "      <th>bid</th>\n",
       "      <th>ask</th>\n",
       "      <th>volume</th>\n",
       "      <th>openint</th>\n",
       "      <th>impvol</th>\n",
       "      <th>...</th>\n",
       "      <th>vix</th>\n",
       "      <th>dhedged_return_mid</th>\n",
       "      <th>dhedged_return_spot</th>\n",
       "      <th>dhedged_return_spot_gamma</th>\n",
       "      <th>dhedged_return_mid_delev</th>\n",
       "      <th>dhedged_return_spot_delev</th>\n",
       "      <th>dhedged_return_spot_gamma_delev</th>\n",
       "      <th>IV_mness_deriv_1</th>\n",
       "      <th>IV_ttm_deriv_1</th>\n",
       "      <th>short_rate</th>\n",
       "    </tr>\n",
       "  </thead>\n",
       "  <tbody>\n",
       "    <tr>\n",
       "      <th>135026</th>\n",
       "      <td>10043558</td>\n",
       "      <td>1996-02</td>\n",
       "      <td>108105</td>\n",
       "      <td>P</td>\n",
       "      <td>575.0</td>\n",
       "      <td>0.3750</td>\n",
       "      <td>0.4375</td>\n",
       "      <td>20.0</td>\n",
       "      <td>2019.0</td>\n",
       "      <td>0.233068</td>\n",
       "      <td>...</td>\n",
       "      <td>15.37</td>\n",
       "      <td>-0.395369</td>\n",
       "      <td>-0.000248</td>\n",
       "      <td>-0.171185</td>\n",
       "      <td>-0.009710</td>\n",
       "      <td>-6.087413e-06</td>\n",
       "      <td>-0.004204</td>\n",
       "      <td>-0.037859</td>\n",
       "      <td>1.418111e-05</td>\n",
       "      <td>0.05427</td>\n",
       "    </tr>\n",
       "    <tr>\n",
       "      <th>421</th>\n",
       "      <td>10368325</td>\n",
       "      <td>1996-02</td>\n",
       "      <td>108105</td>\n",
       "      <td>C</td>\n",
       "      <td>500.0</td>\n",
       "      <td>155.2500</td>\n",
       "      <td>156.2500</td>\n",
       "      <td>0.0</td>\n",
       "      <td>750.0</td>\n",
       "      <td>0.424562</td>\n",
       "      <td>...</td>\n",
       "      <td>15.37</td>\n",
       "      <td>0.007059</td>\n",
       "      <td>0.001697</td>\n",
       "      <td>2.714935</td>\n",
       "      <td>0.001731</td>\n",
       "      <td>4.160267e-04</td>\n",
       "      <td>0.665643</td>\n",
       "      <td>NaN</td>\n",
       "      <td>NaN</td>\n",
       "      <td>0.05427</td>\n",
       "    </tr>\n",
       "    <tr>\n",
       "      <th>91308</th>\n",
       "      <td>11506611</td>\n",
       "      <td>1996-02</td>\n",
       "      <td>108105</td>\n",
       "      <td>P</td>\n",
       "      <td>665.0</td>\n",
       "      <td>23.8750</td>\n",
       "      <td>24.8750</td>\n",
       "      <td>52.0</td>\n",
       "      <td>459.0</td>\n",
       "      <td>0.122164</td>\n",
       "      <td>...</td>\n",
       "      <td>15.37</td>\n",
       "      <td>0.099590</td>\n",
       "      <td>0.003746</td>\n",
       "      <td>0.447423</td>\n",
       "      <td>0.006534</td>\n",
       "      <td>2.457917e-04</td>\n",
       "      <td>0.029355</td>\n",
       "      <td>-0.026410</td>\n",
       "      <td>-7.934008e-06</td>\n",
       "      <td>0.05427</td>\n",
       "    </tr>\n",
       "    <tr>\n",
       "      <th>112280</th>\n",
       "      <td>10170877</td>\n",
       "      <td>1996-02</td>\n",
       "      <td>108105</td>\n",
       "      <td>P</td>\n",
       "      <td>525.0</td>\n",
       "      <td>0.0625</td>\n",
       "      <td>0.1250</td>\n",
       "      <td>500.0</td>\n",
       "      <td>7725.0</td>\n",
       "      <td>0.310703</td>\n",
       "      <td>...</td>\n",
       "      <td>15.37</td>\n",
       "      <td>-0.117722</td>\n",
       "      <td>-0.000017</td>\n",
       "      <td>-0.061710</td>\n",
       "      <td>-0.003241</td>\n",
       "      <td>-4.689261e-07</td>\n",
       "      <td>-0.001699</td>\n",
       "      <td>-0.037859</td>\n",
       "      <td>1.418111e-05</td>\n",
       "      <td>0.05427</td>\n",
       "    </tr>\n",
       "    <tr>\n",
       "      <th>67985</th>\n",
       "      <td>11516393</td>\n",
       "      <td>1996-02</td>\n",
       "      <td>108105</td>\n",
       "      <td>C</td>\n",
       "      <td>685.0</td>\n",
       "      <td>7.8750</td>\n",
       "      <td>8.3750</td>\n",
       "      <td>0.0</td>\n",
       "      <td>458.0</td>\n",
       "      <td>0.128511</td>\n",
       "      <td>...</td>\n",
       "      <td>15.37</td>\n",
       "      <td>0.257634</td>\n",
       "      <td>0.003230</td>\n",
       "      <td>0.470434</td>\n",
       "      <td>0.011572</td>\n",
       "      <td>1.451034e-04</td>\n",
       "      <td>0.021131</td>\n",
       "      <td>-0.010402</td>\n",
       "      <td>8.521277e-07</td>\n",
       "      <td>0.05427</td>\n",
       "    </tr>\n",
       "  </tbody>\n",
       "</table>\n",
       "<p>5 rows × 37 columns</p>\n",
       "</div>"
      ],
      "text/plain": [
       "           optid     date   secid cp_flag  strike       bid       ask  volume  \\\n",
       "135026  10043558  1996-02  108105       P   575.0    0.3750    0.4375    20.0   \n",
       "421     10368325  1996-02  108105       C   500.0  155.2500  156.2500     0.0   \n",
       "91308   11506611  1996-02  108105       P   665.0   23.8750   24.8750    52.0   \n",
       "112280  10170877  1996-02  108105       P   525.0    0.0625    0.1250   500.0   \n",
       "67985   11516393  1996-02  108105       C   685.0    7.8750    8.3750     0.0   \n",
       "\n",
       "        openint    impvol  ...    vix  dhedged_return_mid  \\\n",
       "135026   2019.0  0.233068  ...  15.37           -0.395369   \n",
       "421       750.0  0.424562  ...  15.37            0.007059   \n",
       "91308     459.0  0.122164  ...  15.37            0.099590   \n",
       "112280   7725.0  0.310703  ...  15.37           -0.117722   \n",
       "67985     458.0  0.128511  ...  15.37            0.257634   \n",
       "\n",
       "        dhedged_return_spot  dhedged_return_spot_gamma  \\\n",
       "135026            -0.000248                  -0.171185   \n",
       "421                0.001697                   2.714935   \n",
       "91308              0.003746                   0.447423   \n",
       "112280            -0.000017                  -0.061710   \n",
       "67985              0.003230                   0.470434   \n",
       "\n",
       "        dhedged_return_mid_delev dhedged_return_spot_delev  \\\n",
       "135026                 -0.009710             -6.087413e-06   \n",
       "421                     0.001731              4.160267e-04   \n",
       "91308                   0.006534              2.457917e-04   \n",
       "112280                 -0.003241             -4.689261e-07   \n",
       "67985                   0.011572              1.451034e-04   \n",
       "\n",
       "        dhedged_return_spot_gamma_delev  IV_mness_deriv_1  IV_ttm_deriv_1  \\\n",
       "135026                        -0.004204         -0.037859    1.418111e-05   \n",
       "421                            0.665643               NaN             NaN   \n",
       "91308                          0.029355         -0.026410   -7.934008e-06   \n",
       "112280                        -0.001699         -0.037859    1.418111e-05   \n",
       "67985                          0.021131         -0.010402    8.521277e-07   \n",
       "\n",
       "        short_rate  \n",
       "135026     0.05427  \n",
       "421        0.05427  \n",
       "91308      0.05427  \n",
       "112280     0.05427  \n",
       "67985      0.05427  \n",
       "\n",
       "[5 rows x 37 columns]"
      ]
     },
     "execution_count": 8,
     "metadata": {},
     "output_type": "execute_result"
    }
   ],
   "source": [
    "df.head()"
   ]
  },
  {
   "cell_type": "code",
   "execution_count": null,
   "metadata": {},
   "outputs": [],
   "source": [
    "df.info()"
   ]
  },
  {
   "cell_type": "code",
   "execution_count": null,
   "metadata": {},
   "outputs": [],
   "source": [
    "def get_summary(df_col):\n",
    "    print(f'\\nSummary of {df_col.name}:')\n",
    "    print(f'Mean: {np.round( df_col.mean(),2)}')\n",
    "    print(f'Median: {np.round( df_col.median(),2)}')\n",
    "    print(f'Standard deviation: {np.round( df_col.std(),2)}')\n",
    "    print(f'Number of observations: {np.round( df_col.count(),2)}')    "
   ]
  },
  {
   "cell_type": "code",
   "execution_count": null,
   "metadata": {},
   "outputs": [],
   "source": [
    "def add_months(date ,period_to_add=1):\n",
    "    return (datetime.strptime(date, '%Y-%m') + relativedelta(months=period_to_add)).strftime('%Y-%m')"
   ]
  },
  {
   "cell_type": "code",
   "execution_count": 36,
   "metadata": {},
   "outputs": [],
   "source": [
    "features = [ 'midprice', 'mness', 'ttm', 'embed_lev', 'impvol', 'gamma', 'vega', 'theta']"
   ]
  },
  {
   "cell_type": "code",
   "execution_count": null,
   "metadata": {},
   "outputs": [],
   "source": [
    "print('\\nSummary statistics for Call options\\n')\n",
    "df[df[\"cp_flag\"] == 'C'][features].apply(lambda x: get_summary(x), axis=0);"
   ]
  },
  {
   "cell_type": "code",
   "execution_count": null,
   "metadata": {},
   "outputs": [],
   "source": [
    "print('\\nSummary statistics for Put options\\n')\n",
    "\n",
    "df[df[\"cp_flag\"] == 'P'][features].apply(lambda x: get_summary(x), axis=0);"
   ]
  },
  {
   "cell_type": "code",
   "execution_count": 37,
   "metadata": {},
   "outputs": [],
   "source": [
    "features += ['strike', 'spot_close', 'divrate', 'vix', 'short_rate', 'delta', 'date'] #+ ['optid']\n",
    "train_features = features[1:-1]"
   ]
  },
  {
   "cell_type": "code",
   "execution_count": null,
   "metadata": {},
   "outputs": [],
   "source": [
    "clear_df = df[features]"
   ]
  },
  {
   "cell_type": "code",
   "execution_count": null,
   "metadata": {},
   "outputs": [],
   "source": [
    "start_date = '2007-01'\n",
    "\n",
    "y_prices = clear_df[clear_df['date'] > start_date]['midprice']"
   ]
  },
  {
   "cell_type": "code",
   "execution_count": null,
   "metadata": {},
   "outputs": [],
   "source": [
    "def get_splits(df, num=False):\n",
    "    train_pc = 0.85\n",
    "\n",
    "    df_len = df.shape[0]\n",
    "    separator = int(np.floor(df_len*train_pc))\n",
    "    rest = df_len - separator\n",
    "\n",
    "    if num:\n",
    "        return df[:separator], df[separator:]\n",
    "    else:\n",
    "        return np.append(np.ones(separator)*-1,np.zeros(rest))"
   ]
  },
  {
   "cell_type": "markdown",
   "metadata": {},
   "source": [
    "## OLS Regression"
   ]
  },
  {
   "cell_type": "code",
   "execution_count": null,
   "metadata": {},
   "outputs": [],
   "source": [
    "ols_predictions = np.array([])\n",
    "ols_r_2 = np.array([])\n",
    "ols_r2_better = np.array([])"
   ]
  },
  {
   "cell_type": "code",
   "execution_count": null,
   "metadata": {},
   "outputs": [],
   "source": [
    "# OLS\n",
    "for current_date in df[df['date'] > start_date]['date'].unique():\n",
    "    \n",
    "    x_train = clear_df[clear_df['date'] < current_date][train_features]\n",
    "    y_train = clear_df[clear_df['date'] < current_date]['midprice']\n",
    "\n",
    "    x_test = clear_df[clear_df['date'] == current_date][train_features]\n",
    "    y_test = clear_df[clear_df['date'] == current_date]['midprice']\n",
    "    \n",
    "    ols = LinearRegression()\n",
    "    ols.fit(x_train, y_train)\n",
    "    \n",
    "    y_pred = ols.predict(x_test)\n",
    "    \n",
    "    # Write predictions to array\n",
    "    ols_predictions = np.append(ols_predictions, y_pred)\n",
    "    \n",
    "    # Write R^2 to array\n",
    "    ols_r_2 = np.append(ols_r_2, ols.score(x_train, y_train))\n",
    "    \n",
    "    ols_r2_better = np.append(ols_r2_better, r2_score(y_test, y_pred))"
   ]
  },
  {
   "cell_type": "code",
   "execution_count": null,
   "metadata": {},
   "outputs": [],
   "source": [
    "np.round(np.mean(ols_r_2), 3)"
   ]
  },
  {
   "cell_type": "code",
   "execution_count": null,
   "metadata": {},
   "outputs": [],
   "source": [
    "# MSE\n",
    "np.round(mean_squared_error(y_prices, ols_predictions), 3)"
   ]
  },
  {
   "cell_type": "code",
   "execution_count": null,
   "metadata": {},
   "outputs": [],
   "source": [
    "np.round(r2_score(y_prices, ols_predictions), 3)"
   ]
  },
  {
   "cell_type": "code",
   "execution_count": null,
   "metadata": {},
   "outputs": [],
   "source": [
    "np.round(np.mean(ols_r2_better), 3)"
   ]
  },
  {
   "cell_type": "markdown",
   "metadata": {},
   "source": [
    "## Penalized Linear Regressions"
   ]
  },
  {
   "cell_type": "markdown",
   "metadata": {},
   "source": [
    "### Ridge"
   ]
  },
  {
   "cell_type": "code",
   "execution_count": null,
   "metadata": {},
   "outputs": [],
   "source": [
    "ridge_predictions = np.array([])\n",
    "ridge_r_2 = np.array([])\n",
    "ridge_r2_better = np.array([])"
   ]
  },
  {
   "cell_type": "code",
   "execution_count": null,
   "metadata": {},
   "outputs": [],
   "source": [
    "# Make visualization\n",
    "\n",
    "# ridge_cv.best_params_\n",
    "# ridge_cv.best_score_\n"
   ]
  },
  {
   "cell_type": "code",
   "execution_count": null,
   "metadata": {},
   "outputs": [],
   "source": [
    "# Ridge\n",
    "space = dict()\n",
    "\n",
    "space['solver'] = ['auto','svd', 'cholesky', 'lsqr', 'sparse_cg', 'sag', 'saga']\n",
    "space['alpha'] = np.array([10.0, 1.0, 0.1, 0.01, 0.001, 0])\n",
    "\n",
    "for current_date in df[df['date'] > start_date]['date'].unique():\n",
    "    temp = clear_df[clear_df['date'] < current_date]\n",
    "    X, y = temp[train_features], temp['midprice']\n",
    "\n",
    "    ps = PredefinedSplit(get_splits(temp))\n",
    "    cv_scheme = list(ps.split())\n",
    "\n",
    "    ridge = Ridge(scoring='r2', fit_intercept=True, normalize=True)\n",
    "\n",
    "    ridge_cv = GridSearchCV(ridge, param_grid=space, scoring='r2', cv = cv_scheme)\n",
    "\n",
    "    ridge_cv.fit(X, y)\n",
    "    \n",
    "    # train, validation = get_splits(clear_df[clear_df['date'] < '2007-02'], num = True)\n",
    "\n",
    "    # x_train = train[train_features]\n",
    "    # y_train = train['midprice']\n",
    "\n",
    "    # x_valid = validation[train_features]\n",
    "    # y_valid = validation['midprice']\n",
    "    \n",
    "    x_test = clear_df[clear_df['date'] == current_date][train_features]\n",
    "    y_test = clear_df[clear_df['date'] == current_date]['midprice']\n",
    "\n",
    "    y_pred = ridge_cv.predict(x_test)\n",
    "\n",
    "    # Write predictions to array\n",
    "    ridge_predictions = np.append(ridge_predictions, y_pred)\n",
    "\n",
    "    # Write R^2 to array\n",
    "    ridge_r_2 = np.append(ridge_r_2, ridge_cv.score(X, y))\n",
    "    \n",
    "    ridge_r2_better = np.append(ridge_r2_better, r2_score(y_test, y_pred))"
   ]
  },
  {
   "cell_type": "code",
   "execution_count": null,
   "metadata": {},
   "outputs": [],
   "source": [
    "np.round(np.mean(ridge_r_2), 3)"
   ]
  },
  {
   "cell_type": "code",
   "execution_count": null,
   "metadata": {},
   "outputs": [],
   "source": [
    "np.round(mean_squared_error(y_prices, ridge_predictions), 3)"
   ]
  },
  {
   "cell_type": "code",
   "execution_count": null,
   "metadata": {},
   "outputs": [],
   "source": [
    "np.round(r2_score(y_prices, ridge_predictions), 3)"
   ]
  },
  {
   "cell_type": "code",
   "execution_count": null,
   "metadata": {},
   "outputs": [],
   "source": [
    "np.round(np.mean(ridge_r2_better), 3)"
   ]
  },
  {
   "cell_type": "markdown",
   "metadata": {},
   "source": [
    "### Lasso"
   ]
  },
  {
   "cell_type": "code",
   "execution_count": null,
   "metadata": {},
   "outputs": [],
   "source": [
    "lasso_predictions = np.array([])\n",
    "lasso_r_2 = np.array([])\n",
    "lasso_r2_better = np.array([])"
   ]
  },
  {
   "cell_type": "code",
   "execution_count": null,
   "metadata": {},
   "outputs": [],
   "source": [
    "# Lasso\n",
    "space = dict()\n",
    "\n",
    "space['alpha'] = np.array([10.0, 1.0, 0.1, 0.01, 0.001])\n",
    "\n",
    "for current_date in df[df['date'] > start_date]['date'].unique():\n",
    "    temp = clear_df[clear_df['date'] < current_date]\n",
    "    X, y = temp[train_features], temp['midprice']\n",
    "\n",
    "    ps = PredefinedSplit(get_splits(temp))\n",
    "    cv_scheme = list(ps.split())\n",
    "\n",
    "    lasso = Lasso(fit_intercept=True, normalize=True)\n",
    "    \n",
    "    lasso_cv = GridSearchCV(lasso, param_grid=space, scoring='r2', cv = cv_scheme)\n",
    "    \n",
    "    lasso_cv.fit(X, y)\n",
    "        \n",
    "    x_test = clear_df[clear_df['date'] == current_date][train_features]\n",
    "    y_test = clear_df[clear_df['date'] == current_date]['midprice']\n",
    "    \n",
    "    y_pred = lasso_cv.predict(x_test)\n",
    "    \n",
    "    # Write predictions to array\n",
    "    lasso_predictions = np.append(lasso_predictions, y_pred)\n",
    "    \n",
    "    # Write R^2 to array\n",
    "    lasso_r_2 = np.append(lasso_r_2, lasso_cv.score(X, y))\n",
    "    \n",
    "    lasso_r2_better = np.append(lasso_r2_better, r2_score(y_test, y_pred))"
   ]
  },
  {
   "cell_type": "markdown",
   "metadata": {},
   "source": [
    "### ElasticNet"
   ]
  },
  {
   "cell_type": "code",
   "execution_count": null,
   "metadata": {},
   "outputs": [],
   "source": [
    "elastic_net_predictions = np.array([])\n",
    "elastic_net_r_2 = np.array([])\n",
    "elastic_net_r2_better = np.array([])"
   ]
  },
  {
   "cell_type": "code",
   "execution_count": null,
   "metadata": {
    "scrolled": false
   },
   "outputs": [],
   "source": [
    "# ElasticNet\n",
    "space = dict()\n",
    "\n",
    "space['alpha'] = np.array([1.0, 0.01, 0.001, 0.0001])\n",
    "space['l1_ratio'] = np.arange(0.95, 1, 0.005)\n",
    "\n",
    "for current_date in df[df['date'] > start_date]['date'].unique():\n",
    "    temp = clear_df[clear_df['date'] < current_date]\n",
    "    X, y = temp[train_features], temp['midprice']\n",
    "\n",
    "    ps = PredefinedSplit(get_splits(temp))\n",
    "    cv_scheme = list(ps.split())\n",
    "    \n",
    "    elastic_net = ElasticNet(fit_intercept=True, normalize=True)\n",
    "    \n",
    "    elastic_net_cv = GridSearchCV(elastic_net, param_grid=space, scoring='r2', cv = cv_scheme)\n",
    "    \n",
    "    elastic_net_cv.fit(X, y)\n",
    "    \n",
    "    x_test = clear_df[clear_df['date'] == current_date][train_features]\n",
    "    y_test = clear_df[clear_df['date'] == current_date]['midprice']\n",
    "    \n",
    "    y_pred = elastic_net_cv.predict(x_test)\n",
    "    \n",
    "    # Write predictions to array\n",
    "    elastic_net_predictions = np.append(elastic_net_predictions, y_pred)\n",
    "    \n",
    "    # Write R^2 to array\n",
    "    elastic_net_r_2 = np.append(elastic_net_r_2, elastic_net_cv.score(X, y))\n",
    "    \n",
    "    elastic_net_r2_better = np.append(elastic_net_r2_better, r2_score(y_test, y_pred))"
   ]
  },
  {
   "cell_type": "markdown",
   "metadata": {},
   "source": [
    "\n",
    "\n",
    "## Put-Call Separation"
   ]
  },
  {
   "cell_type": "code",
   "execution_count": 28,
   "metadata": {},
   "outputs": [],
   "source": [
    "df = pd.read_csv('total_df.csv', parse_dates=[15]).sort_values(by = \"date\")\n",
    "df['date'] = df['date'].dt.to_period('M')\n",
    "df = df[277:].reset_index(drop=True)"
   ]
  },
  {
   "cell_type": "code",
   "execution_count": 25,
   "metadata": {},
   "outputs": [
    {
     "data": {
      "text/html": [
       "<div>\n",
       "<style scoped>\n",
       "    .dataframe tbody tr th:only-of-type {\n",
       "        vertical-align: middle;\n",
       "    }\n",
       "\n",
       "    .dataframe tbody tr th {\n",
       "        vertical-align: top;\n",
       "    }\n",
       "\n",
       "    .dataframe thead th {\n",
       "        text-align: right;\n",
       "    }\n",
       "</style>\n",
       "<table border=\"1\" class=\"dataframe\">\n",
       "  <thead>\n",
       "    <tr style=\"text-align: right;\">\n",
       "      <th></th>\n",
       "      <th>index</th>\n",
       "      <th>mness</th>\n",
       "      <th>ttm</th>\n",
       "      <th>embed_lev</th>\n",
       "      <th>impvol</th>\n",
       "      <th>gamma</th>\n",
       "      <th>vega</th>\n",
       "      <th>theta</th>\n",
       "      <th>strike</th>\n",
       "      <th>delta</th>\n",
       "      <th>spot_close</th>\n",
       "      <th>divrate</th>\n",
       "      <th>vix</th>\n",
       "      <th>short_rate</th>\n",
       "      <th>midprice</th>\n",
       "      <th>date</th>\n",
       "      <th>mness_additional</th>\n",
       "      <th>ttm_additional</th>\n",
       "      <th>embed_lev_additional</th>\n",
       "      <th>impvol_additional</th>\n",
       "    </tr>\n",
       "  </thead>\n",
       "  <tbody>\n",
       "    <tr>\n",
       "      <th>0</th>\n",
       "      <td>66404</td>\n",
       "      <td>1.794424</td>\n",
       "      <td>35</td>\n",
       "      <td>13.049020</td>\n",
       "      <td>0.131359</td>\n",
       "      <td>0.003453</td>\n",
       "      <td>17.38113</td>\n",
       "      <td>8.350084</td>\n",
       "      <td>690.0</td>\n",
       "      <td>-0.956151</td>\n",
       "      <td>641.43</td>\n",
       "      <td>0.026814</td>\n",
       "      <td>16.54</td>\n",
       "      <td>0.054624</td>\n",
       "      <td>47.000</td>\n",
       "      <td>1996-03</td>\n",
       "      <td>1.794424</td>\n",
       "      <td>35.0</td>\n",
       "      <td>13.049020</td>\n",
       "      <td>0.131359</td>\n",
       "    </tr>\n",
       "    <tr>\n",
       "      <th>1</th>\n",
       "      <td>113497</td>\n",
       "      <td>0.951309</td>\n",
       "      <td>189</td>\n",
       "      <td>8.926721</td>\n",
       "      <td>0.127646</td>\n",
       "      <td>0.005100</td>\n",
       "      <td>137.96840</td>\n",
       "      <td>0.565281</td>\n",
       "      <td>700.0</td>\n",
       "      <td>-0.760211</td>\n",
       "      <td>641.43</td>\n",
       "      <td>0.026814</td>\n",
       "      <td>16.54</td>\n",
       "      <td>0.054624</td>\n",
       "      <td>54.625</td>\n",
       "      <td>1996-03</td>\n",
       "      <td>0.951309</td>\n",
       "      <td>189.0</td>\n",
       "      <td>8.926721</td>\n",
       "      <td>0.127646</td>\n",
       "    </tr>\n",
       "    <tr>\n",
       "      <th>2</th>\n",
       "      <td>89829</td>\n",
       "      <td>0.976241</td>\n",
       "      <td>98</td>\n",
       "      <td>11.907258</td>\n",
       "      <td>0.129917</td>\n",
       "      <td>0.006540</td>\n",
       "      <td>92.90605</td>\n",
       "      <td>-5.226152</td>\n",
       "      <td>685.0</td>\n",
       "      <td>-0.791274</td>\n",
       "      <td>641.43</td>\n",
       "      <td>0.026814</td>\n",
       "      <td>16.54</td>\n",
       "      <td>0.054624</td>\n",
       "      <td>42.625</td>\n",
       "      <td>1996-03</td>\n",
       "      <td>0.976241</td>\n",
       "      <td>98.0</td>\n",
       "      <td>11.907258</td>\n",
       "      <td>0.129917</td>\n",
       "    </tr>\n",
       "    <tr>\n",
       "      <th>3</th>\n",
       "      <td>23951</td>\n",
       "      <td>1.582517</td>\n",
       "      <td>63</td>\n",
       "      <td>10.630817</td>\n",
       "      <td>0.132905</td>\n",
       "      <td>0.003805</td>\n",
       "      <td>35.34675</td>\n",
       "      <td>6.868342</td>\n",
       "      <td>700.0</td>\n",
       "      <td>-0.926051</td>\n",
       "      <td>641.43</td>\n",
       "      <td>0.026814</td>\n",
       "      <td>16.54</td>\n",
       "      <td>0.054624</td>\n",
       "      <td>55.875</td>\n",
       "      <td>1996-03</td>\n",
       "      <td>1.582517</td>\n",
       "      <td>63.0</td>\n",
       "      <td>10.630817</td>\n",
       "      <td>0.132905</td>\n",
       "    </tr>\n",
       "    <tr>\n",
       "      <th>4</th>\n",
       "      <td>22836</td>\n",
       "      <td>-0.615510</td>\n",
       "      <td>189</td>\n",
       "      <td>13.662393</td>\n",
       "      <td>0.169646</td>\n",
       "      <td>0.003647</td>\n",
       "      <td>131.10720</td>\n",
       "      <td>-17.051270</td>\n",
       "      <td>595.0</td>\n",
       "      <td>-0.207674</td>\n",
       "      <td>641.43</td>\n",
       "      <td>0.026814</td>\n",
       "      <td>16.54</td>\n",
       "      <td>0.054624</td>\n",
       "      <td>9.750</td>\n",
       "      <td>1996-03</td>\n",
       "      <td>-0.615510</td>\n",
       "      <td>189.0</td>\n",
       "      <td>13.662393</td>\n",
       "      <td>0.169646</td>\n",
       "    </tr>\n",
       "  </tbody>\n",
       "</table>\n",
       "</div>"
      ],
      "text/plain": [
       "    index     mness  ttm  embed_lev    impvol     gamma       vega      theta  \\\n",
       "0   66404  1.794424   35  13.049020  0.131359  0.003453   17.38113   8.350084   \n",
       "1  113497  0.951309  189   8.926721  0.127646  0.005100  137.96840   0.565281   \n",
       "2   89829  0.976241   98  11.907258  0.129917  0.006540   92.90605  -5.226152   \n",
       "3   23951  1.582517   63  10.630817  0.132905  0.003805   35.34675   6.868342   \n",
       "4   22836 -0.615510  189  13.662393  0.169646  0.003647  131.10720 -17.051270   \n",
       "\n",
       "   strike     delta  spot_close   divrate    vix  short_rate  midprice  \\\n",
       "0   690.0 -0.956151      641.43  0.026814  16.54    0.054624    47.000   \n",
       "1   700.0 -0.760211      641.43  0.026814  16.54    0.054624    54.625   \n",
       "2   685.0 -0.791274      641.43  0.026814  16.54    0.054624    42.625   \n",
       "3   700.0 -0.926051      641.43  0.026814  16.54    0.054624    55.875   \n",
       "4   595.0 -0.207674      641.43  0.026814  16.54    0.054624     9.750   \n",
       "\n",
       "      date  mness_additional  ttm_additional  embed_lev_additional  \\\n",
       "0  1996-03          1.794424            35.0             13.049020   \n",
       "1  1996-03          0.951309           189.0              8.926721   \n",
       "2  1996-03          0.976241            98.0             11.907258   \n",
       "3  1996-03          1.582517            63.0             10.630817   \n",
       "4  1996-03         -0.615510           189.0             13.662393   \n",
       "\n",
       "   impvol_additional  \n",
       "0           0.131359  \n",
       "1           0.127646  \n",
       "2           0.129917  \n",
       "3           0.132905  \n",
       "4           0.169646  "
      ]
     },
     "execution_count": 25,
     "metadata": {},
     "output_type": "execute_result"
    }
   ],
   "source": [
    "# For testing\n",
    "df = df[df['date'] < '2008-01']"
   ]
  },
  {
   "cell_type": "code",
   "execution_count": 32,
   "metadata": {},
   "outputs": [],
   "source": [
    "clear_df = df[features]\n",
    "start_date = '2007-01'\n",
    "\n",
    "y_prices = clear_df[clear_df['date'] > start_date]['midprice']"
   ]
  },
  {
   "cell_type": "markdown",
   "metadata": {},
   "source": [
    "## OLS Regression"
   ]
  },
  {
   "cell_type": "code",
   "execution_count": 33,
   "metadata": {},
   "outputs": [],
   "source": [
    "ols_sep_predictions = np.array([])\n",
    "ols_sep_r_2 = np.array([])"
   ]
  },
  {
   "cell_type": "code",
   "execution_count": 38,
   "metadata": {},
   "outputs": [],
   "source": [
    "# OLS\n",
    "for current_date in df[df['date'] > start_date]['date'].unique():\n",
    "    \n",
    "    x_train = clear_df[clear_df['date'] < current_date][train_features]\n",
    "    y_train = clear_df[clear_df['date'] < current_date]['midprice']\n",
    "\n",
    "    x_test = clear_df[clear_df['date'] == current_date][train_features]\n",
    "    y_test = clear_df[clear_df['date'] == current_date]['midprice']\n",
    "    \n",
    "    ols = LinearRegression()\n",
    "    ols.fit(x_train, y_train)\n",
    "    \n",
    "    y_pred = ols.predict(x_test)\n",
    "    \n",
    "    # Write predictions to array\n",
    "    ols_sep_predictions = np.append(ols_sep_predictions, y_pred)\n",
    "    \n",
    "    # Write R^2 to array\n",
    "    ols_sep_r_2 = np.append(ols_sep_r_2, r2_score(y_test, y_pred))"
   ]
  },
  {
   "cell_type": "code",
   "execution_count": 39,
   "metadata": {},
   "outputs": [
    {
     "data": {
      "text/plain": [
       "0.289"
      ]
     },
     "execution_count": 39,
     "metadata": {},
     "output_type": "execute_result"
    }
   ],
   "source": [
    "np.round(np.mean(ols_sep_r_2), 3)"
   ]
  },
  {
   "cell_type": "code",
   "execution_count": 40,
   "metadata": {},
   "outputs": [
    {
     "data": {
      "text/plain": [
       "0.329"
      ]
     },
     "execution_count": 40,
     "metadata": {},
     "output_type": "execute_result"
    }
   ],
   "source": [
    "np.round(r2_score(y_prices, ols_sep_predictions), 3)"
   ]
  },
  {
   "cell_type": "code",
   "execution_count": 41,
   "metadata": {},
   "outputs": [
    {
     "data": {
      "text/plain": [
       "19784.398"
      ]
     },
     "execution_count": 41,
     "metadata": {},
     "output_type": "execute_result"
    }
   ],
   "source": [
    "# MSE\n",
    "np.round(mean_squared_error(y_prices, ols_sep_predictions), 3)"
   ]
  }
 ],
 "metadata": {
  "kernelspec": {
   "display_name": "Python_38",
   "language": "python",
   "name": "python_38"
  },
  "language_info": {
   "codemirror_mode": {
    "name": "ipython",
    "version": 3
   },
   "file_extension": ".py",
   "mimetype": "text/x-python",
   "name": "python",
   "nbconvert_exporter": "python",
   "pygments_lexer": "ipython3",
   "version": "3.8.6"
  }
 },
 "nbformat": 4,
 "nbformat_minor": 4
}
